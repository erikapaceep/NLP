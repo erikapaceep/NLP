{
  "nbformat": 4,
  "nbformat_minor": 0,
  "metadata": {
    "colab": {
      "provenance": [],
      "authorship_tag": "ABX9TyMJs8tGf5xAj/wr7f3AE69w",
      "include_colab_link": true
    },
    "kernelspec": {
      "name": "python3",
      "display_name": "Python 3"
    },
    "language_info": {
      "name": "python"
    },
    "widgets": {
      "application/vnd.jupyter.widget-state+json": {
        "88613838428d44eb97e6e15de6a31e57": {
          "model_module": "@jupyter-widgets/controls",
          "model_name": "HBoxModel",
          "model_module_version": "1.5.0",
          "state": {
            "_dom_classes": [],
            "_model_module": "@jupyter-widgets/controls",
            "_model_module_version": "1.5.0",
            "_model_name": "HBoxModel",
            "_view_count": null,
            "_view_module": "@jupyter-widgets/controls",
            "_view_module_version": "1.5.0",
            "_view_name": "HBoxView",
            "box_style": "",
            "children": [
              "IPY_MODEL_f2f4fea0721f4b9b8bf9455d922f5002",
              "IPY_MODEL_f0f4620e8e8b4bae99ce3b2bf78f68c3",
              "IPY_MODEL_2581a18f05934a5e8fc44d4866d35231"
            ],
            "layout": "IPY_MODEL_7e69a2823a5f4c20a4dbbc8e63de5abc"
          }
        },
        "f2f4fea0721f4b9b8bf9455d922f5002": {
          "model_module": "@jupyter-widgets/controls",
          "model_name": "HTMLModel",
          "model_module_version": "1.5.0",
          "state": {
            "_dom_classes": [],
            "_model_module": "@jupyter-widgets/controls",
            "_model_module_version": "1.5.0",
            "_model_name": "HTMLModel",
            "_view_count": null,
            "_view_module": "@jupyter-widgets/controls",
            "_view_module_version": "1.5.0",
            "_view_name": "HTMLView",
            "description": "",
            "description_tooltip": null,
            "layout": "IPY_MODEL_3e76afcee5964ea6b0f688246132bcb8",
            "placeholder": "​",
            "style": "IPY_MODEL_d18903ce1dcf418eb121b9034f4c4353",
            "value": "Downloading: 100%"
          }
        },
        "f0f4620e8e8b4bae99ce3b2bf78f68c3": {
          "model_module": "@jupyter-widgets/controls",
          "model_name": "FloatProgressModel",
          "model_module_version": "1.5.0",
          "state": {
            "_dom_classes": [],
            "_model_module": "@jupyter-widgets/controls",
            "_model_module_version": "1.5.0",
            "_model_name": "FloatProgressModel",
            "_view_count": null,
            "_view_module": "@jupyter-widgets/controls",
            "_view_module_version": "1.5.0",
            "_view_name": "ProgressView",
            "bar_style": "success",
            "description": "",
            "description_tooltip": null,
            "layout": "IPY_MODEL_59ac42246f52446f8de264720cc62200",
            "max": 231508,
            "min": 0,
            "orientation": "horizontal",
            "style": "IPY_MODEL_6ba8ef285d404f849f1ab7ec78f6fab7",
            "value": 231508
          }
        },
        "2581a18f05934a5e8fc44d4866d35231": {
          "model_module": "@jupyter-widgets/controls",
          "model_name": "HTMLModel",
          "model_module_version": "1.5.0",
          "state": {
            "_dom_classes": [],
            "_model_module": "@jupyter-widgets/controls",
            "_model_module_version": "1.5.0",
            "_model_name": "HTMLModel",
            "_view_count": null,
            "_view_module": "@jupyter-widgets/controls",
            "_view_module_version": "1.5.0",
            "_view_name": "HTMLView",
            "description": "",
            "description_tooltip": null,
            "layout": "IPY_MODEL_1ee5228ebad649f8a01fefa7542fe17d",
            "placeholder": "​",
            "style": "IPY_MODEL_d959e0663a094b5ba6391767a65c88a9",
            "value": " 232k/232k [00:00&lt;00:00, 1.11MB/s]"
          }
        },
        "7e69a2823a5f4c20a4dbbc8e63de5abc": {
          "model_module": "@jupyter-widgets/base",
          "model_name": "LayoutModel",
          "model_module_version": "1.2.0",
          "state": {
            "_model_module": "@jupyter-widgets/base",
            "_model_module_version": "1.2.0",
            "_model_name": "LayoutModel",
            "_view_count": null,
            "_view_module": "@jupyter-widgets/base",
            "_view_module_version": "1.2.0",
            "_view_name": "LayoutView",
            "align_content": null,
            "align_items": null,
            "align_self": null,
            "border": null,
            "bottom": null,
            "display": null,
            "flex": null,
            "flex_flow": null,
            "grid_area": null,
            "grid_auto_columns": null,
            "grid_auto_flow": null,
            "grid_auto_rows": null,
            "grid_column": null,
            "grid_gap": null,
            "grid_row": null,
            "grid_template_areas": null,
            "grid_template_columns": null,
            "grid_template_rows": null,
            "height": null,
            "justify_content": null,
            "justify_items": null,
            "left": null,
            "margin": null,
            "max_height": null,
            "max_width": null,
            "min_height": null,
            "min_width": null,
            "object_fit": null,
            "object_position": null,
            "order": null,
            "overflow": null,
            "overflow_x": null,
            "overflow_y": null,
            "padding": null,
            "right": null,
            "top": null,
            "visibility": null,
            "width": null
          }
        },
        "3e76afcee5964ea6b0f688246132bcb8": {
          "model_module": "@jupyter-widgets/base",
          "model_name": "LayoutModel",
          "model_module_version": "1.2.0",
          "state": {
            "_model_module": "@jupyter-widgets/base",
            "_model_module_version": "1.2.0",
            "_model_name": "LayoutModel",
            "_view_count": null,
            "_view_module": "@jupyter-widgets/base",
            "_view_module_version": "1.2.0",
            "_view_name": "LayoutView",
            "align_content": null,
            "align_items": null,
            "align_self": null,
            "border": null,
            "bottom": null,
            "display": null,
            "flex": null,
            "flex_flow": null,
            "grid_area": null,
            "grid_auto_columns": null,
            "grid_auto_flow": null,
            "grid_auto_rows": null,
            "grid_column": null,
            "grid_gap": null,
            "grid_row": null,
            "grid_template_areas": null,
            "grid_template_columns": null,
            "grid_template_rows": null,
            "height": null,
            "justify_content": null,
            "justify_items": null,
            "left": null,
            "margin": null,
            "max_height": null,
            "max_width": null,
            "min_height": null,
            "min_width": null,
            "object_fit": null,
            "object_position": null,
            "order": null,
            "overflow": null,
            "overflow_x": null,
            "overflow_y": null,
            "padding": null,
            "right": null,
            "top": null,
            "visibility": null,
            "width": null
          }
        },
        "d18903ce1dcf418eb121b9034f4c4353": {
          "model_module": "@jupyter-widgets/controls",
          "model_name": "DescriptionStyleModel",
          "model_module_version": "1.5.0",
          "state": {
            "_model_module": "@jupyter-widgets/controls",
            "_model_module_version": "1.5.0",
            "_model_name": "DescriptionStyleModel",
            "_view_count": null,
            "_view_module": "@jupyter-widgets/base",
            "_view_module_version": "1.2.0",
            "_view_name": "StyleView",
            "description_width": ""
          }
        },
        "59ac42246f52446f8de264720cc62200": {
          "model_module": "@jupyter-widgets/base",
          "model_name": "LayoutModel",
          "model_module_version": "1.2.0",
          "state": {
            "_model_module": "@jupyter-widgets/base",
            "_model_module_version": "1.2.0",
            "_model_name": "LayoutModel",
            "_view_count": null,
            "_view_module": "@jupyter-widgets/base",
            "_view_module_version": "1.2.0",
            "_view_name": "LayoutView",
            "align_content": null,
            "align_items": null,
            "align_self": null,
            "border": null,
            "bottom": null,
            "display": null,
            "flex": null,
            "flex_flow": null,
            "grid_area": null,
            "grid_auto_columns": null,
            "grid_auto_flow": null,
            "grid_auto_rows": null,
            "grid_column": null,
            "grid_gap": null,
            "grid_row": null,
            "grid_template_areas": null,
            "grid_template_columns": null,
            "grid_template_rows": null,
            "height": null,
            "justify_content": null,
            "justify_items": null,
            "left": null,
            "margin": null,
            "max_height": null,
            "max_width": null,
            "min_height": null,
            "min_width": null,
            "object_fit": null,
            "object_position": null,
            "order": null,
            "overflow": null,
            "overflow_x": null,
            "overflow_y": null,
            "padding": null,
            "right": null,
            "top": null,
            "visibility": null,
            "width": null
          }
        },
        "6ba8ef285d404f849f1ab7ec78f6fab7": {
          "model_module": "@jupyter-widgets/controls",
          "model_name": "ProgressStyleModel",
          "model_module_version": "1.5.0",
          "state": {
            "_model_module": "@jupyter-widgets/controls",
            "_model_module_version": "1.5.0",
            "_model_name": "ProgressStyleModel",
            "_view_count": null,
            "_view_module": "@jupyter-widgets/base",
            "_view_module_version": "1.2.0",
            "_view_name": "StyleView",
            "bar_color": null,
            "description_width": ""
          }
        },
        "1ee5228ebad649f8a01fefa7542fe17d": {
          "model_module": "@jupyter-widgets/base",
          "model_name": "LayoutModel",
          "model_module_version": "1.2.0",
          "state": {
            "_model_module": "@jupyter-widgets/base",
            "_model_module_version": "1.2.0",
            "_model_name": "LayoutModel",
            "_view_count": null,
            "_view_module": "@jupyter-widgets/base",
            "_view_module_version": "1.2.0",
            "_view_name": "LayoutView",
            "align_content": null,
            "align_items": null,
            "align_self": null,
            "border": null,
            "bottom": null,
            "display": null,
            "flex": null,
            "flex_flow": null,
            "grid_area": null,
            "grid_auto_columns": null,
            "grid_auto_flow": null,
            "grid_auto_rows": null,
            "grid_column": null,
            "grid_gap": null,
            "grid_row": null,
            "grid_template_areas": null,
            "grid_template_columns": null,
            "grid_template_rows": null,
            "height": null,
            "justify_content": null,
            "justify_items": null,
            "left": null,
            "margin": null,
            "max_height": null,
            "max_width": null,
            "min_height": null,
            "min_width": null,
            "object_fit": null,
            "object_position": null,
            "order": null,
            "overflow": null,
            "overflow_x": null,
            "overflow_y": null,
            "padding": null,
            "right": null,
            "top": null,
            "visibility": null,
            "width": null
          }
        },
        "d959e0663a094b5ba6391767a65c88a9": {
          "model_module": "@jupyter-widgets/controls",
          "model_name": "DescriptionStyleModel",
          "model_module_version": "1.5.0",
          "state": {
            "_model_module": "@jupyter-widgets/controls",
            "_model_module_version": "1.5.0",
            "_model_name": "DescriptionStyleModel",
            "_view_count": null,
            "_view_module": "@jupyter-widgets/base",
            "_view_module_version": "1.2.0",
            "_view_name": "StyleView",
            "description_width": ""
          }
        },
        "903086adc2224a93b799ec778a40c07e": {
          "model_module": "@jupyter-widgets/controls",
          "model_name": "HBoxModel",
          "model_module_version": "1.5.0",
          "state": {
            "_dom_classes": [],
            "_model_module": "@jupyter-widgets/controls",
            "_model_module_version": "1.5.0",
            "_model_name": "HBoxModel",
            "_view_count": null,
            "_view_module": "@jupyter-widgets/controls",
            "_view_module_version": "1.5.0",
            "_view_name": "HBoxView",
            "box_style": "",
            "children": [
              "IPY_MODEL_307f82c49fc04fdba5122231bfc12510",
              "IPY_MODEL_52ea670d9002454786cd226a9a7d68db",
              "IPY_MODEL_a3d32d438c2e47e5a3a2cc2fba5c537a"
            ],
            "layout": "IPY_MODEL_47e8635a476a4652bc9ace79cf08af02"
          }
        },
        "307f82c49fc04fdba5122231bfc12510": {
          "model_module": "@jupyter-widgets/controls",
          "model_name": "HTMLModel",
          "model_module_version": "1.5.0",
          "state": {
            "_dom_classes": [],
            "_model_module": "@jupyter-widgets/controls",
            "_model_module_version": "1.5.0",
            "_model_name": "HTMLModel",
            "_view_count": null,
            "_view_module": "@jupyter-widgets/controls",
            "_view_module_version": "1.5.0",
            "_view_name": "HTMLView",
            "description": "",
            "description_tooltip": null,
            "layout": "IPY_MODEL_c44eede62dcb4fab8314fbafbfb2b058",
            "placeholder": "​",
            "style": "IPY_MODEL_7a5348869cbb41849e7ef461cdad6285",
            "value": "Downloading: 100%"
          }
        },
        "52ea670d9002454786cd226a9a7d68db": {
          "model_module": "@jupyter-widgets/controls",
          "model_name": "FloatProgressModel",
          "model_module_version": "1.5.0",
          "state": {
            "_dom_classes": [],
            "_model_module": "@jupyter-widgets/controls",
            "_model_module_version": "1.5.0",
            "_model_name": "FloatProgressModel",
            "_view_count": null,
            "_view_module": "@jupyter-widgets/controls",
            "_view_module_version": "1.5.0",
            "_view_name": "ProgressView",
            "bar_style": "success",
            "description": "",
            "description_tooltip": null,
            "layout": "IPY_MODEL_02d35713eab84f70b52f69fb16a5cff9",
            "max": 112,
            "min": 0,
            "orientation": "horizontal",
            "style": "IPY_MODEL_3450dde005cf41499ac5c96258f55638",
            "value": 112
          }
        },
        "a3d32d438c2e47e5a3a2cc2fba5c537a": {
          "model_module": "@jupyter-widgets/controls",
          "model_name": "HTMLModel",
          "model_module_version": "1.5.0",
          "state": {
            "_dom_classes": [],
            "_model_module": "@jupyter-widgets/controls",
            "_model_module_version": "1.5.0",
            "_model_name": "HTMLModel",
            "_view_count": null,
            "_view_module": "@jupyter-widgets/controls",
            "_view_module_version": "1.5.0",
            "_view_name": "HTMLView",
            "description": "",
            "description_tooltip": null,
            "layout": "IPY_MODEL_21e219494e124c18bda98a2b3b1877f0",
            "placeholder": "​",
            "style": "IPY_MODEL_c723e129553545e1874215f025206c57",
            "value": " 112/112 [00:00&lt;00:00, 1.90kB/s]"
          }
        },
        "47e8635a476a4652bc9ace79cf08af02": {
          "model_module": "@jupyter-widgets/base",
          "model_name": "LayoutModel",
          "model_module_version": "1.2.0",
          "state": {
            "_model_module": "@jupyter-widgets/base",
            "_model_module_version": "1.2.0",
            "_model_name": "LayoutModel",
            "_view_count": null,
            "_view_module": "@jupyter-widgets/base",
            "_view_module_version": "1.2.0",
            "_view_name": "LayoutView",
            "align_content": null,
            "align_items": null,
            "align_self": null,
            "border": null,
            "bottom": null,
            "display": null,
            "flex": null,
            "flex_flow": null,
            "grid_area": null,
            "grid_auto_columns": null,
            "grid_auto_flow": null,
            "grid_auto_rows": null,
            "grid_column": null,
            "grid_gap": null,
            "grid_row": null,
            "grid_template_areas": null,
            "grid_template_columns": null,
            "grid_template_rows": null,
            "height": null,
            "justify_content": null,
            "justify_items": null,
            "left": null,
            "margin": null,
            "max_height": null,
            "max_width": null,
            "min_height": null,
            "min_width": null,
            "object_fit": null,
            "object_position": null,
            "order": null,
            "overflow": null,
            "overflow_x": null,
            "overflow_y": null,
            "padding": null,
            "right": null,
            "top": null,
            "visibility": null,
            "width": null
          }
        },
        "c44eede62dcb4fab8314fbafbfb2b058": {
          "model_module": "@jupyter-widgets/base",
          "model_name": "LayoutModel",
          "model_module_version": "1.2.0",
          "state": {
            "_model_module": "@jupyter-widgets/base",
            "_model_module_version": "1.2.0",
            "_model_name": "LayoutModel",
            "_view_count": null,
            "_view_module": "@jupyter-widgets/base",
            "_view_module_version": "1.2.0",
            "_view_name": "LayoutView",
            "align_content": null,
            "align_items": null,
            "align_self": null,
            "border": null,
            "bottom": null,
            "display": null,
            "flex": null,
            "flex_flow": null,
            "grid_area": null,
            "grid_auto_columns": null,
            "grid_auto_flow": null,
            "grid_auto_rows": null,
            "grid_column": null,
            "grid_gap": null,
            "grid_row": null,
            "grid_template_areas": null,
            "grid_template_columns": null,
            "grid_template_rows": null,
            "height": null,
            "justify_content": null,
            "justify_items": null,
            "left": null,
            "margin": null,
            "max_height": null,
            "max_width": null,
            "min_height": null,
            "min_width": null,
            "object_fit": null,
            "object_position": null,
            "order": null,
            "overflow": null,
            "overflow_x": null,
            "overflow_y": null,
            "padding": null,
            "right": null,
            "top": null,
            "visibility": null,
            "width": null
          }
        },
        "7a5348869cbb41849e7ef461cdad6285": {
          "model_module": "@jupyter-widgets/controls",
          "model_name": "DescriptionStyleModel",
          "model_module_version": "1.5.0",
          "state": {
            "_model_module": "@jupyter-widgets/controls",
            "_model_module_version": "1.5.0",
            "_model_name": "DescriptionStyleModel",
            "_view_count": null,
            "_view_module": "@jupyter-widgets/base",
            "_view_module_version": "1.2.0",
            "_view_name": "StyleView",
            "description_width": ""
          }
        },
        "02d35713eab84f70b52f69fb16a5cff9": {
          "model_module": "@jupyter-widgets/base",
          "model_name": "LayoutModel",
          "model_module_version": "1.2.0",
          "state": {
            "_model_module": "@jupyter-widgets/base",
            "_model_module_version": "1.2.0",
            "_model_name": "LayoutModel",
            "_view_count": null,
            "_view_module": "@jupyter-widgets/base",
            "_view_module_version": "1.2.0",
            "_view_name": "LayoutView",
            "align_content": null,
            "align_items": null,
            "align_self": null,
            "border": null,
            "bottom": null,
            "display": null,
            "flex": null,
            "flex_flow": null,
            "grid_area": null,
            "grid_auto_columns": null,
            "grid_auto_flow": null,
            "grid_auto_rows": null,
            "grid_column": null,
            "grid_gap": null,
            "grid_row": null,
            "grid_template_areas": null,
            "grid_template_columns": null,
            "grid_template_rows": null,
            "height": null,
            "justify_content": null,
            "justify_items": null,
            "left": null,
            "margin": null,
            "max_height": null,
            "max_width": null,
            "min_height": null,
            "min_width": null,
            "object_fit": null,
            "object_position": null,
            "order": null,
            "overflow": null,
            "overflow_x": null,
            "overflow_y": null,
            "padding": null,
            "right": null,
            "top": null,
            "visibility": null,
            "width": null
          }
        },
        "3450dde005cf41499ac5c96258f55638": {
          "model_module": "@jupyter-widgets/controls",
          "model_name": "ProgressStyleModel",
          "model_module_version": "1.5.0",
          "state": {
            "_model_module": "@jupyter-widgets/controls",
            "_model_module_version": "1.5.0",
            "_model_name": "ProgressStyleModel",
            "_view_count": null,
            "_view_module": "@jupyter-widgets/base",
            "_view_module_version": "1.2.0",
            "_view_name": "StyleView",
            "bar_color": null,
            "description_width": ""
          }
        },
        "21e219494e124c18bda98a2b3b1877f0": {
          "model_module": "@jupyter-widgets/base",
          "model_name": "LayoutModel",
          "model_module_version": "1.2.0",
          "state": {
            "_model_module": "@jupyter-widgets/base",
            "_model_module_version": "1.2.0",
            "_model_name": "LayoutModel",
            "_view_count": null,
            "_view_module": "@jupyter-widgets/base",
            "_view_module_version": "1.2.0",
            "_view_name": "LayoutView",
            "align_content": null,
            "align_items": null,
            "align_self": null,
            "border": null,
            "bottom": null,
            "display": null,
            "flex": null,
            "flex_flow": null,
            "grid_area": null,
            "grid_auto_columns": null,
            "grid_auto_flow": null,
            "grid_auto_rows": null,
            "grid_column": null,
            "grid_gap": null,
            "grid_row": null,
            "grid_template_areas": null,
            "grid_template_columns": null,
            "grid_template_rows": null,
            "height": null,
            "justify_content": null,
            "justify_items": null,
            "left": null,
            "margin": null,
            "max_height": null,
            "max_width": null,
            "min_height": null,
            "min_width": null,
            "object_fit": null,
            "object_position": null,
            "order": null,
            "overflow": null,
            "overflow_x": null,
            "overflow_y": null,
            "padding": null,
            "right": null,
            "top": null,
            "visibility": null,
            "width": null
          }
        },
        "c723e129553545e1874215f025206c57": {
          "model_module": "@jupyter-widgets/controls",
          "model_name": "DescriptionStyleModel",
          "model_module_version": "1.5.0",
          "state": {
            "_model_module": "@jupyter-widgets/controls",
            "_model_module_version": "1.5.0",
            "_model_name": "DescriptionStyleModel",
            "_view_count": null,
            "_view_module": "@jupyter-widgets/base",
            "_view_module_version": "1.2.0",
            "_view_name": "StyleView",
            "description_width": ""
          }
        },
        "ee85da734d8843c6855267c39426401e": {
          "model_module": "@jupyter-widgets/controls",
          "model_name": "HBoxModel",
          "model_module_version": "1.5.0",
          "state": {
            "_dom_classes": [],
            "_model_module": "@jupyter-widgets/controls",
            "_model_module_version": "1.5.0",
            "_model_name": "HBoxModel",
            "_view_count": null,
            "_view_module": "@jupyter-widgets/controls",
            "_view_module_version": "1.5.0",
            "_view_name": "HBoxView",
            "box_style": "",
            "children": [
              "IPY_MODEL_51f04eb44881472099650f0460f97a0c",
              "IPY_MODEL_a320042c7c23437ebeb2ec75296da600",
              "IPY_MODEL_3970fb9c527b4d009f776cc664563863"
            ],
            "layout": "IPY_MODEL_33556fc5b6ef4e3b96fdda5ca84290e7"
          }
        },
        "51f04eb44881472099650f0460f97a0c": {
          "model_module": "@jupyter-widgets/controls",
          "model_name": "HTMLModel",
          "model_module_version": "1.5.0",
          "state": {
            "_dom_classes": [],
            "_model_module": "@jupyter-widgets/controls",
            "_model_module_version": "1.5.0",
            "_model_name": "HTMLModel",
            "_view_count": null,
            "_view_module": "@jupyter-widgets/controls",
            "_view_module_version": "1.5.0",
            "_view_name": "HTMLView",
            "description": "",
            "description_tooltip": null,
            "layout": "IPY_MODEL_ad8bf001fcde42dd8a332cb77ecb03cd",
            "placeholder": "​",
            "style": "IPY_MODEL_30e66bb61e384b219a0d95a37f3a80a6",
            "value": "Downloading: 100%"
          }
        },
        "a320042c7c23437ebeb2ec75296da600": {
          "model_module": "@jupyter-widgets/controls",
          "model_name": "FloatProgressModel",
          "model_module_version": "1.5.0",
          "state": {
            "_dom_classes": [],
            "_model_module": "@jupyter-widgets/controls",
            "_model_module_version": "1.5.0",
            "_model_name": "FloatProgressModel",
            "_view_count": null,
            "_view_module": "@jupyter-widgets/controls",
            "_view_module_version": "1.5.0",
            "_view_name": "ProgressView",
            "bar_style": "success",
            "description": "",
            "description_tooltip": null,
            "layout": "IPY_MODEL_d7f1db0cb5c14497b59b073683e9c8fb",
            "max": 252,
            "min": 0,
            "orientation": "horizontal",
            "style": "IPY_MODEL_79fa2649cd544a9a9a433e3e1eafb31e",
            "value": 252
          }
        },
        "3970fb9c527b4d009f776cc664563863": {
          "model_module": "@jupyter-widgets/controls",
          "model_name": "HTMLModel",
          "model_module_version": "1.5.0",
          "state": {
            "_dom_classes": [],
            "_model_module": "@jupyter-widgets/controls",
            "_model_module_version": "1.5.0",
            "_model_name": "HTMLModel",
            "_view_count": null,
            "_view_module": "@jupyter-widgets/controls",
            "_view_module_version": "1.5.0",
            "_view_name": "HTMLView",
            "description": "",
            "description_tooltip": null,
            "layout": "IPY_MODEL_bc06b27d6e6243e1b691983568868fd6",
            "placeholder": "​",
            "style": "IPY_MODEL_adc282c98b184bcf882c0debeda66287",
            "value": " 252/252 [00:00&lt;00:00, 2.44kB/s]"
          }
        },
        "33556fc5b6ef4e3b96fdda5ca84290e7": {
          "model_module": "@jupyter-widgets/base",
          "model_name": "LayoutModel",
          "model_module_version": "1.2.0",
          "state": {
            "_model_module": "@jupyter-widgets/base",
            "_model_module_version": "1.2.0",
            "_model_name": "LayoutModel",
            "_view_count": null,
            "_view_module": "@jupyter-widgets/base",
            "_view_module_version": "1.2.0",
            "_view_name": "LayoutView",
            "align_content": null,
            "align_items": null,
            "align_self": null,
            "border": null,
            "bottom": null,
            "display": null,
            "flex": null,
            "flex_flow": null,
            "grid_area": null,
            "grid_auto_columns": null,
            "grid_auto_flow": null,
            "grid_auto_rows": null,
            "grid_column": null,
            "grid_gap": null,
            "grid_row": null,
            "grid_template_areas": null,
            "grid_template_columns": null,
            "grid_template_rows": null,
            "height": null,
            "justify_content": null,
            "justify_items": null,
            "left": null,
            "margin": null,
            "max_height": null,
            "max_width": null,
            "min_height": null,
            "min_width": null,
            "object_fit": null,
            "object_position": null,
            "order": null,
            "overflow": null,
            "overflow_x": null,
            "overflow_y": null,
            "padding": null,
            "right": null,
            "top": null,
            "visibility": null,
            "width": null
          }
        },
        "ad8bf001fcde42dd8a332cb77ecb03cd": {
          "model_module": "@jupyter-widgets/base",
          "model_name": "LayoutModel",
          "model_module_version": "1.2.0",
          "state": {
            "_model_module": "@jupyter-widgets/base",
            "_model_module_version": "1.2.0",
            "_model_name": "LayoutModel",
            "_view_count": null,
            "_view_module": "@jupyter-widgets/base",
            "_view_module_version": "1.2.0",
            "_view_name": "LayoutView",
            "align_content": null,
            "align_items": null,
            "align_self": null,
            "border": null,
            "bottom": null,
            "display": null,
            "flex": null,
            "flex_flow": null,
            "grid_area": null,
            "grid_auto_columns": null,
            "grid_auto_flow": null,
            "grid_auto_rows": null,
            "grid_column": null,
            "grid_gap": null,
            "grid_row": null,
            "grid_template_areas": null,
            "grid_template_columns": null,
            "grid_template_rows": null,
            "height": null,
            "justify_content": null,
            "justify_items": null,
            "left": null,
            "margin": null,
            "max_height": null,
            "max_width": null,
            "min_height": null,
            "min_width": null,
            "object_fit": null,
            "object_position": null,
            "order": null,
            "overflow": null,
            "overflow_x": null,
            "overflow_y": null,
            "padding": null,
            "right": null,
            "top": null,
            "visibility": null,
            "width": null
          }
        },
        "30e66bb61e384b219a0d95a37f3a80a6": {
          "model_module": "@jupyter-widgets/controls",
          "model_name": "DescriptionStyleModel",
          "model_module_version": "1.5.0",
          "state": {
            "_model_module": "@jupyter-widgets/controls",
            "_model_module_version": "1.5.0",
            "_model_name": "DescriptionStyleModel",
            "_view_count": null,
            "_view_module": "@jupyter-widgets/base",
            "_view_module_version": "1.2.0",
            "_view_name": "StyleView",
            "description_width": ""
          }
        },
        "d7f1db0cb5c14497b59b073683e9c8fb": {
          "model_module": "@jupyter-widgets/base",
          "model_name": "LayoutModel",
          "model_module_version": "1.2.0",
          "state": {
            "_model_module": "@jupyter-widgets/base",
            "_model_module_version": "1.2.0",
            "_model_name": "LayoutModel",
            "_view_count": null,
            "_view_module": "@jupyter-widgets/base",
            "_view_module_version": "1.2.0",
            "_view_name": "LayoutView",
            "align_content": null,
            "align_items": null,
            "align_self": null,
            "border": null,
            "bottom": null,
            "display": null,
            "flex": null,
            "flex_flow": null,
            "grid_area": null,
            "grid_auto_columns": null,
            "grid_auto_flow": null,
            "grid_auto_rows": null,
            "grid_column": null,
            "grid_gap": null,
            "grid_row": null,
            "grid_template_areas": null,
            "grid_template_columns": null,
            "grid_template_rows": null,
            "height": null,
            "justify_content": null,
            "justify_items": null,
            "left": null,
            "margin": null,
            "max_height": null,
            "max_width": null,
            "min_height": null,
            "min_width": null,
            "object_fit": null,
            "object_position": null,
            "order": null,
            "overflow": null,
            "overflow_x": null,
            "overflow_y": null,
            "padding": null,
            "right": null,
            "top": null,
            "visibility": null,
            "width": null
          }
        },
        "79fa2649cd544a9a9a433e3e1eafb31e": {
          "model_module": "@jupyter-widgets/controls",
          "model_name": "ProgressStyleModel",
          "model_module_version": "1.5.0",
          "state": {
            "_model_module": "@jupyter-widgets/controls",
            "_model_module_version": "1.5.0",
            "_model_name": "ProgressStyleModel",
            "_view_count": null,
            "_view_module": "@jupyter-widgets/base",
            "_view_module_version": "1.2.0",
            "_view_name": "StyleView",
            "bar_color": null,
            "description_width": ""
          }
        },
        "bc06b27d6e6243e1b691983568868fd6": {
          "model_module": "@jupyter-widgets/base",
          "model_name": "LayoutModel",
          "model_module_version": "1.2.0",
          "state": {
            "_model_module": "@jupyter-widgets/base",
            "_model_module_version": "1.2.0",
            "_model_name": "LayoutModel",
            "_view_count": null,
            "_view_module": "@jupyter-widgets/base",
            "_view_module_version": "1.2.0",
            "_view_name": "LayoutView",
            "align_content": null,
            "align_items": null,
            "align_self": null,
            "border": null,
            "bottom": null,
            "display": null,
            "flex": null,
            "flex_flow": null,
            "grid_area": null,
            "grid_auto_columns": null,
            "grid_auto_flow": null,
            "grid_auto_rows": null,
            "grid_column": null,
            "grid_gap": null,
            "grid_row": null,
            "grid_template_areas": null,
            "grid_template_columns": null,
            "grid_template_rows": null,
            "height": null,
            "justify_content": null,
            "justify_items": null,
            "left": null,
            "margin": null,
            "max_height": null,
            "max_width": null,
            "min_height": null,
            "min_width": null,
            "object_fit": null,
            "object_position": null,
            "order": null,
            "overflow": null,
            "overflow_x": null,
            "overflow_y": null,
            "padding": null,
            "right": null,
            "top": null,
            "visibility": null,
            "width": null
          }
        },
        "adc282c98b184bcf882c0debeda66287": {
          "model_module": "@jupyter-widgets/controls",
          "model_name": "DescriptionStyleModel",
          "model_module_version": "1.5.0",
          "state": {
            "_model_module": "@jupyter-widgets/controls",
            "_model_module_version": "1.5.0",
            "_model_name": "DescriptionStyleModel",
            "_view_count": null,
            "_view_module": "@jupyter-widgets/base",
            "_view_module_version": "1.2.0",
            "_view_name": "StyleView",
            "description_width": ""
          }
        },
        "186eb909f7074cd88223e0c2864577db": {
          "model_module": "@jupyter-widgets/controls",
          "model_name": "HBoxModel",
          "model_module_version": "1.5.0",
          "state": {
            "_dom_classes": [],
            "_model_module": "@jupyter-widgets/controls",
            "_model_module_version": "1.5.0",
            "_model_name": "HBoxModel",
            "_view_count": null,
            "_view_module": "@jupyter-widgets/controls",
            "_view_module_version": "1.5.0",
            "_view_name": "HBoxView",
            "box_style": "",
            "children": [
              "IPY_MODEL_12de871f579f4361aef8da806b0f09d7",
              "IPY_MODEL_f22109b1d7da4c0580cbc0dbd85f0888",
              "IPY_MODEL_85182e47a36b436899d680a6e44751ef"
            ],
            "layout": "IPY_MODEL_caf2714548074b4bb995283fbd57c480"
          }
        },
        "12de871f579f4361aef8da806b0f09d7": {
          "model_module": "@jupyter-widgets/controls",
          "model_name": "HTMLModel",
          "model_module_version": "1.5.0",
          "state": {
            "_dom_classes": [],
            "_model_module": "@jupyter-widgets/controls",
            "_model_module_version": "1.5.0",
            "_model_name": "HTMLModel",
            "_view_count": null,
            "_view_module": "@jupyter-widgets/controls",
            "_view_module_version": "1.5.0",
            "_view_name": "HTMLView",
            "description": "",
            "description_tooltip": null,
            "layout": "IPY_MODEL_a0f9c0e907d04460bc4ffab03125c57a",
            "placeholder": "​",
            "style": "IPY_MODEL_ade9bcda6cc049368c6a7f4d98b19e24",
            "value": "Downloading: 100%"
          }
        },
        "f22109b1d7da4c0580cbc0dbd85f0888": {
          "model_module": "@jupyter-widgets/controls",
          "model_name": "FloatProgressModel",
          "model_module_version": "1.5.0",
          "state": {
            "_dom_classes": [],
            "_model_module": "@jupyter-widgets/controls",
            "_model_module_version": "1.5.0",
            "_model_name": "FloatProgressModel",
            "_view_count": null,
            "_view_module": "@jupyter-widgets/controls",
            "_view_module_version": "1.5.0",
            "_view_name": "ProgressView",
            "bar_style": "success",
            "description": "",
            "description_tooltip": null,
            "layout": "IPY_MODEL_c17e43525e4d4c06b260655e1cba392b",
            "max": 758,
            "min": 0,
            "orientation": "horizontal",
            "style": "IPY_MODEL_0f88a1f87c044c438c7edb999807c337",
            "value": 758
          }
        },
        "85182e47a36b436899d680a6e44751ef": {
          "model_module": "@jupyter-widgets/controls",
          "model_name": "HTMLModel",
          "model_module_version": "1.5.0",
          "state": {
            "_dom_classes": [],
            "_model_module": "@jupyter-widgets/controls",
            "_model_module_version": "1.5.0",
            "_model_name": "HTMLModel",
            "_view_count": null,
            "_view_module": "@jupyter-widgets/controls",
            "_view_module_version": "1.5.0",
            "_view_name": "HTMLView",
            "description": "",
            "description_tooltip": null,
            "layout": "IPY_MODEL_3c2b53c55ebb43f387a45c80ff719026",
            "placeholder": "​",
            "style": "IPY_MODEL_97de4b0f073c4f5aa7e6a3aa74c5063d",
            "value": " 758/758 [00:00&lt;00:00, 7.31kB/s]"
          }
        },
        "caf2714548074b4bb995283fbd57c480": {
          "model_module": "@jupyter-widgets/base",
          "model_name": "LayoutModel",
          "model_module_version": "1.2.0",
          "state": {
            "_model_module": "@jupyter-widgets/base",
            "_model_module_version": "1.2.0",
            "_model_name": "LayoutModel",
            "_view_count": null,
            "_view_module": "@jupyter-widgets/base",
            "_view_module_version": "1.2.0",
            "_view_name": "LayoutView",
            "align_content": null,
            "align_items": null,
            "align_self": null,
            "border": null,
            "bottom": null,
            "display": null,
            "flex": null,
            "flex_flow": null,
            "grid_area": null,
            "grid_auto_columns": null,
            "grid_auto_flow": null,
            "grid_auto_rows": null,
            "grid_column": null,
            "grid_gap": null,
            "grid_row": null,
            "grid_template_areas": null,
            "grid_template_columns": null,
            "grid_template_rows": null,
            "height": null,
            "justify_content": null,
            "justify_items": null,
            "left": null,
            "margin": null,
            "max_height": null,
            "max_width": null,
            "min_height": null,
            "min_width": null,
            "object_fit": null,
            "object_position": null,
            "order": null,
            "overflow": null,
            "overflow_x": null,
            "overflow_y": null,
            "padding": null,
            "right": null,
            "top": null,
            "visibility": null,
            "width": null
          }
        },
        "a0f9c0e907d04460bc4ffab03125c57a": {
          "model_module": "@jupyter-widgets/base",
          "model_name": "LayoutModel",
          "model_module_version": "1.2.0",
          "state": {
            "_model_module": "@jupyter-widgets/base",
            "_model_module_version": "1.2.0",
            "_model_name": "LayoutModel",
            "_view_count": null,
            "_view_module": "@jupyter-widgets/base",
            "_view_module_version": "1.2.0",
            "_view_name": "LayoutView",
            "align_content": null,
            "align_items": null,
            "align_self": null,
            "border": null,
            "bottom": null,
            "display": null,
            "flex": null,
            "flex_flow": null,
            "grid_area": null,
            "grid_auto_columns": null,
            "grid_auto_flow": null,
            "grid_auto_rows": null,
            "grid_column": null,
            "grid_gap": null,
            "grid_row": null,
            "grid_template_areas": null,
            "grid_template_columns": null,
            "grid_template_rows": null,
            "height": null,
            "justify_content": null,
            "justify_items": null,
            "left": null,
            "margin": null,
            "max_height": null,
            "max_width": null,
            "min_height": null,
            "min_width": null,
            "object_fit": null,
            "object_position": null,
            "order": null,
            "overflow": null,
            "overflow_x": null,
            "overflow_y": null,
            "padding": null,
            "right": null,
            "top": null,
            "visibility": null,
            "width": null
          }
        },
        "ade9bcda6cc049368c6a7f4d98b19e24": {
          "model_module": "@jupyter-widgets/controls",
          "model_name": "DescriptionStyleModel",
          "model_module_version": "1.5.0",
          "state": {
            "_model_module": "@jupyter-widgets/controls",
            "_model_module_version": "1.5.0",
            "_model_name": "DescriptionStyleModel",
            "_view_count": null,
            "_view_module": "@jupyter-widgets/base",
            "_view_module_version": "1.2.0",
            "_view_name": "StyleView",
            "description_width": ""
          }
        },
        "c17e43525e4d4c06b260655e1cba392b": {
          "model_module": "@jupyter-widgets/base",
          "model_name": "LayoutModel",
          "model_module_version": "1.2.0",
          "state": {
            "_model_module": "@jupyter-widgets/base",
            "_model_module_version": "1.2.0",
            "_model_name": "LayoutModel",
            "_view_count": null,
            "_view_module": "@jupyter-widgets/base",
            "_view_module_version": "1.2.0",
            "_view_name": "LayoutView",
            "align_content": null,
            "align_items": null,
            "align_self": null,
            "border": null,
            "bottom": null,
            "display": null,
            "flex": null,
            "flex_flow": null,
            "grid_area": null,
            "grid_auto_columns": null,
            "grid_auto_flow": null,
            "grid_auto_rows": null,
            "grid_column": null,
            "grid_gap": null,
            "grid_row": null,
            "grid_template_areas": null,
            "grid_template_columns": null,
            "grid_template_rows": null,
            "height": null,
            "justify_content": null,
            "justify_items": null,
            "left": null,
            "margin": null,
            "max_height": null,
            "max_width": null,
            "min_height": null,
            "min_width": null,
            "object_fit": null,
            "object_position": null,
            "order": null,
            "overflow": null,
            "overflow_x": null,
            "overflow_y": null,
            "padding": null,
            "right": null,
            "top": null,
            "visibility": null,
            "width": null
          }
        },
        "0f88a1f87c044c438c7edb999807c337": {
          "model_module": "@jupyter-widgets/controls",
          "model_name": "ProgressStyleModel",
          "model_module_version": "1.5.0",
          "state": {
            "_model_module": "@jupyter-widgets/controls",
            "_model_module_version": "1.5.0",
            "_model_name": "ProgressStyleModel",
            "_view_count": null,
            "_view_module": "@jupyter-widgets/base",
            "_view_module_version": "1.2.0",
            "_view_name": "StyleView",
            "bar_color": null,
            "description_width": ""
          }
        },
        "3c2b53c55ebb43f387a45c80ff719026": {
          "model_module": "@jupyter-widgets/base",
          "model_name": "LayoutModel",
          "model_module_version": "1.2.0",
          "state": {
            "_model_module": "@jupyter-widgets/base",
            "_model_module_version": "1.2.0",
            "_model_name": "LayoutModel",
            "_view_count": null,
            "_view_module": "@jupyter-widgets/base",
            "_view_module_version": "1.2.0",
            "_view_name": "LayoutView",
            "align_content": null,
            "align_items": null,
            "align_self": null,
            "border": null,
            "bottom": null,
            "display": null,
            "flex": null,
            "flex_flow": null,
            "grid_area": null,
            "grid_auto_columns": null,
            "grid_auto_flow": null,
            "grid_auto_rows": null,
            "grid_column": null,
            "grid_gap": null,
            "grid_row": null,
            "grid_template_areas": null,
            "grid_template_columns": null,
            "grid_template_rows": null,
            "height": null,
            "justify_content": null,
            "justify_items": null,
            "left": null,
            "margin": null,
            "max_height": null,
            "max_width": null,
            "min_height": null,
            "min_width": null,
            "object_fit": null,
            "object_position": null,
            "order": null,
            "overflow": null,
            "overflow_x": null,
            "overflow_y": null,
            "padding": null,
            "right": null,
            "top": null,
            "visibility": null,
            "width": null
          }
        },
        "97de4b0f073c4f5aa7e6a3aa74c5063d": {
          "model_module": "@jupyter-widgets/controls",
          "model_name": "DescriptionStyleModel",
          "model_module_version": "1.5.0",
          "state": {
            "_model_module": "@jupyter-widgets/controls",
            "_model_module_version": "1.5.0",
            "_model_name": "DescriptionStyleModel",
            "_view_count": null,
            "_view_module": "@jupyter-widgets/base",
            "_view_module_version": "1.2.0",
            "_view_name": "StyleView",
            "description_width": ""
          }
        },
        "497f83ba6c0f4caba9daae944d20cffb": {
          "model_module": "@jupyter-widgets/controls",
          "model_name": "HBoxModel",
          "model_module_version": "1.5.0",
          "state": {
            "_dom_classes": [],
            "_model_module": "@jupyter-widgets/controls",
            "_model_module_version": "1.5.0",
            "_model_name": "HBoxModel",
            "_view_count": null,
            "_view_module": "@jupyter-widgets/controls",
            "_view_module_version": "1.5.0",
            "_view_name": "HBoxView",
            "box_style": "",
            "children": [
              "IPY_MODEL_888af5a70d584337ba2a73439d45ab6f",
              "IPY_MODEL_a23cba381c6e4c8098cea11c922f489c",
              "IPY_MODEL_e2efa619eef84b7981d7928a1d275500"
            ],
            "layout": "IPY_MODEL_91586c13651f4f4ea6c2fcbdd3662834"
          }
        },
        "888af5a70d584337ba2a73439d45ab6f": {
          "model_module": "@jupyter-widgets/controls",
          "model_name": "HTMLModel",
          "model_module_version": "1.5.0",
          "state": {
            "_dom_classes": [],
            "_model_module": "@jupyter-widgets/controls",
            "_model_module_version": "1.5.0",
            "_model_name": "HTMLModel",
            "_view_count": null,
            "_view_module": "@jupyter-widgets/controls",
            "_view_module_version": "1.5.0",
            "_view_name": "HTMLView",
            "description": "",
            "description_tooltip": null,
            "layout": "IPY_MODEL_acc46e9fbabe4c16b9745343a21140e8",
            "placeholder": "​",
            "style": "IPY_MODEL_bf4402f163af4480b638523bf08aff9e",
            "value": "Downloading: 100%"
          }
        },
        "a23cba381c6e4c8098cea11c922f489c": {
          "model_module": "@jupyter-widgets/controls",
          "model_name": "FloatProgressModel",
          "model_module_version": "1.5.0",
          "state": {
            "_dom_classes": [],
            "_model_module": "@jupyter-widgets/controls",
            "_model_module_version": "1.5.0",
            "_model_name": "FloatProgressModel",
            "_view_count": null,
            "_view_module": "@jupyter-widgets/controls",
            "_view_module_version": "1.5.0",
            "_view_name": "ProgressView",
            "bar_style": "success",
            "description": "",
            "description_tooltip": null,
            "layout": "IPY_MODEL_ed89061e16354b11a923857fe66086f1",
            "max": 437992753,
            "min": 0,
            "orientation": "horizontal",
            "style": "IPY_MODEL_11729371aac744e4974b0c87b8ee6440",
            "value": 437992753
          }
        },
        "e2efa619eef84b7981d7928a1d275500": {
          "model_module": "@jupyter-widgets/controls",
          "model_name": "HTMLModel",
          "model_module_version": "1.5.0",
          "state": {
            "_dom_classes": [],
            "_model_module": "@jupyter-widgets/controls",
            "_model_module_version": "1.5.0",
            "_model_name": "HTMLModel",
            "_view_count": null,
            "_view_module": "@jupyter-widgets/controls",
            "_view_module_version": "1.5.0",
            "_view_name": "HTMLView",
            "description": "",
            "description_tooltip": null,
            "layout": "IPY_MODEL_7c816a32f2034950ba0cec77722cd361",
            "placeholder": "​",
            "style": "IPY_MODEL_f11c9ebd28124acfadd6d31a0567d205",
            "value": " 438M/438M [00:11&lt;00:00, 47.6MB/s]"
          }
        },
        "91586c13651f4f4ea6c2fcbdd3662834": {
          "model_module": "@jupyter-widgets/base",
          "model_name": "LayoutModel",
          "model_module_version": "1.2.0",
          "state": {
            "_model_module": "@jupyter-widgets/base",
            "_model_module_version": "1.2.0",
            "_model_name": "LayoutModel",
            "_view_count": null,
            "_view_module": "@jupyter-widgets/base",
            "_view_module_version": "1.2.0",
            "_view_name": "LayoutView",
            "align_content": null,
            "align_items": null,
            "align_self": null,
            "border": null,
            "bottom": null,
            "display": null,
            "flex": null,
            "flex_flow": null,
            "grid_area": null,
            "grid_auto_columns": null,
            "grid_auto_flow": null,
            "grid_auto_rows": null,
            "grid_column": null,
            "grid_gap": null,
            "grid_row": null,
            "grid_template_areas": null,
            "grid_template_columns": null,
            "grid_template_rows": null,
            "height": null,
            "justify_content": null,
            "justify_items": null,
            "left": null,
            "margin": null,
            "max_height": null,
            "max_width": null,
            "min_height": null,
            "min_width": null,
            "object_fit": null,
            "object_position": null,
            "order": null,
            "overflow": null,
            "overflow_x": null,
            "overflow_y": null,
            "padding": null,
            "right": null,
            "top": null,
            "visibility": null,
            "width": null
          }
        },
        "acc46e9fbabe4c16b9745343a21140e8": {
          "model_module": "@jupyter-widgets/base",
          "model_name": "LayoutModel",
          "model_module_version": "1.2.0",
          "state": {
            "_model_module": "@jupyter-widgets/base",
            "_model_module_version": "1.2.0",
            "_model_name": "LayoutModel",
            "_view_count": null,
            "_view_module": "@jupyter-widgets/base",
            "_view_module_version": "1.2.0",
            "_view_name": "LayoutView",
            "align_content": null,
            "align_items": null,
            "align_self": null,
            "border": null,
            "bottom": null,
            "display": null,
            "flex": null,
            "flex_flow": null,
            "grid_area": null,
            "grid_auto_columns": null,
            "grid_auto_flow": null,
            "grid_auto_rows": null,
            "grid_column": null,
            "grid_gap": null,
            "grid_row": null,
            "grid_template_areas": null,
            "grid_template_columns": null,
            "grid_template_rows": null,
            "height": null,
            "justify_content": null,
            "justify_items": null,
            "left": null,
            "margin": null,
            "max_height": null,
            "max_width": null,
            "min_height": null,
            "min_width": null,
            "object_fit": null,
            "object_position": null,
            "order": null,
            "overflow": null,
            "overflow_x": null,
            "overflow_y": null,
            "padding": null,
            "right": null,
            "top": null,
            "visibility": null,
            "width": null
          }
        },
        "bf4402f163af4480b638523bf08aff9e": {
          "model_module": "@jupyter-widgets/controls",
          "model_name": "DescriptionStyleModel",
          "model_module_version": "1.5.0",
          "state": {
            "_model_module": "@jupyter-widgets/controls",
            "_model_module_version": "1.5.0",
            "_model_name": "DescriptionStyleModel",
            "_view_count": null,
            "_view_module": "@jupyter-widgets/base",
            "_view_module_version": "1.2.0",
            "_view_name": "StyleView",
            "description_width": ""
          }
        },
        "ed89061e16354b11a923857fe66086f1": {
          "model_module": "@jupyter-widgets/base",
          "model_name": "LayoutModel",
          "model_module_version": "1.2.0",
          "state": {
            "_model_module": "@jupyter-widgets/base",
            "_model_module_version": "1.2.0",
            "_model_name": "LayoutModel",
            "_view_count": null,
            "_view_module": "@jupyter-widgets/base",
            "_view_module_version": "1.2.0",
            "_view_name": "LayoutView",
            "align_content": null,
            "align_items": null,
            "align_self": null,
            "border": null,
            "bottom": null,
            "display": null,
            "flex": null,
            "flex_flow": null,
            "grid_area": null,
            "grid_auto_columns": null,
            "grid_auto_flow": null,
            "grid_auto_rows": null,
            "grid_column": null,
            "grid_gap": null,
            "grid_row": null,
            "grid_template_areas": null,
            "grid_template_columns": null,
            "grid_template_rows": null,
            "height": null,
            "justify_content": null,
            "justify_items": null,
            "left": null,
            "margin": null,
            "max_height": null,
            "max_width": null,
            "min_height": null,
            "min_width": null,
            "object_fit": null,
            "object_position": null,
            "order": null,
            "overflow": null,
            "overflow_x": null,
            "overflow_y": null,
            "padding": null,
            "right": null,
            "top": null,
            "visibility": null,
            "width": null
          }
        },
        "11729371aac744e4974b0c87b8ee6440": {
          "model_module": "@jupyter-widgets/controls",
          "model_name": "ProgressStyleModel",
          "model_module_version": "1.5.0",
          "state": {
            "_model_module": "@jupyter-widgets/controls",
            "_model_module_version": "1.5.0",
            "_model_name": "ProgressStyleModel",
            "_view_count": null,
            "_view_module": "@jupyter-widgets/base",
            "_view_module_version": "1.2.0",
            "_view_name": "StyleView",
            "bar_color": null,
            "description_width": ""
          }
        },
        "7c816a32f2034950ba0cec77722cd361": {
          "model_module": "@jupyter-widgets/base",
          "model_name": "LayoutModel",
          "model_module_version": "1.2.0",
          "state": {
            "_model_module": "@jupyter-widgets/base",
            "_model_module_version": "1.2.0",
            "_model_name": "LayoutModel",
            "_view_count": null,
            "_view_module": "@jupyter-widgets/base",
            "_view_module_version": "1.2.0",
            "_view_name": "LayoutView",
            "align_content": null,
            "align_items": null,
            "align_self": null,
            "border": null,
            "bottom": null,
            "display": null,
            "flex": null,
            "flex_flow": null,
            "grid_area": null,
            "grid_auto_columns": null,
            "grid_auto_flow": null,
            "grid_auto_rows": null,
            "grid_column": null,
            "grid_gap": null,
            "grid_row": null,
            "grid_template_areas": null,
            "grid_template_columns": null,
            "grid_template_rows": null,
            "height": null,
            "justify_content": null,
            "justify_items": null,
            "left": null,
            "margin": null,
            "max_height": null,
            "max_width": null,
            "min_height": null,
            "min_width": null,
            "object_fit": null,
            "object_position": null,
            "order": null,
            "overflow": null,
            "overflow_x": null,
            "overflow_y": null,
            "padding": null,
            "right": null,
            "top": null,
            "visibility": null,
            "width": null
          }
        },
        "f11c9ebd28124acfadd6d31a0567d205": {
          "model_module": "@jupyter-widgets/controls",
          "model_name": "DescriptionStyleModel",
          "model_module_version": "1.5.0",
          "state": {
            "_model_module": "@jupyter-widgets/controls",
            "_model_module_version": "1.5.0",
            "_model_name": "DescriptionStyleModel",
            "_view_count": null,
            "_view_module": "@jupyter-widgets/base",
            "_view_module_version": "1.2.0",
            "_view_name": "StyleView",
            "description_width": ""
          }
        }
      }
    }
  },
  "cells": [
    {
      "cell_type": "markdown",
      "metadata": {
        "id": "view-in-github",
        "colab_type": "text"
      },
      "source": [
        "<a href=\"https://colab.research.google.com/github/erikapaceep/NLP/blob/main/long_text_classification_pyTorch.ipynb\" target=\"_parent\"><img src=\"https://colab.research.google.com/assets/colab-badge.svg\" alt=\"Open In Colab\"/></a>"
      ]
    },
    {
      "cell_type": "code",
      "execution_count": 1,
      "metadata": {
        "colab": {
          "base_uri": "https://localhost:8080/"
        },
        "id": "tfVc0qsKaCBy",
        "outputId": "eca06a2a-f8b3-4969-9a10-93bc67eb1f03"
      },
      "outputs": [
        {
          "output_type": "stream",
          "name": "stdout",
          "text": [
            "Looking in indexes: https://pypi.org/simple, https://us-python.pkg.dev/colab-wheels/public/simple/\n",
            "Collecting transformers\n",
            "  Downloading transformers-4.25.1-py3-none-any.whl (5.8 MB)\n",
            "\u001b[K     |████████████████████████████████| 5.8 MB 5.4 MB/s \n",
            "\u001b[?25hRequirement already satisfied: regex!=2019.12.17 in /usr/local/lib/python3.8/dist-packages (from transformers) (2022.6.2)\n",
            "Requirement already satisfied: tqdm>=4.27 in /usr/local/lib/python3.8/dist-packages (from transformers) (4.64.1)\n",
            "Requirement already satisfied: packaging>=20.0 in /usr/local/lib/python3.8/dist-packages (from transformers) (21.3)\n",
            "Collecting huggingface-hub<1.0,>=0.10.0\n",
            "  Downloading huggingface_hub-0.11.1-py3-none-any.whl (182 kB)\n",
            "\u001b[K     |████████████████████████████████| 182 kB 55.2 MB/s \n",
            "\u001b[?25hRequirement already satisfied: requests in /usr/local/lib/python3.8/dist-packages (from transformers) (2.23.0)\n",
            "Collecting tokenizers!=0.11.3,<0.14,>=0.11.1\n",
            "  Downloading tokenizers-0.13.2-cp38-cp38-manylinux_2_17_x86_64.manylinux2014_x86_64.whl (7.6 MB)\n",
            "\u001b[K     |████████████████████████████████| 7.6 MB 49.1 MB/s \n",
            "\u001b[?25hRequirement already satisfied: filelock in /usr/local/lib/python3.8/dist-packages (from transformers) (3.8.2)\n",
            "Requirement already satisfied: pyyaml>=5.1 in /usr/local/lib/python3.8/dist-packages (from transformers) (6.0)\n",
            "Requirement already satisfied: numpy>=1.17 in /usr/local/lib/python3.8/dist-packages (from transformers) (1.21.6)\n",
            "Requirement already satisfied: typing-extensions>=3.7.4.3 in /usr/local/lib/python3.8/dist-packages (from huggingface-hub<1.0,>=0.10.0->transformers) (4.4.0)\n",
            "Requirement already satisfied: pyparsing!=3.0.5,>=2.0.2 in /usr/local/lib/python3.8/dist-packages (from packaging>=20.0->transformers) (3.0.9)\n",
            "Requirement already satisfied: certifi>=2017.4.17 in /usr/local/lib/python3.8/dist-packages (from requests->transformers) (2022.12.7)\n",
            "Requirement already satisfied: chardet<4,>=3.0.2 in /usr/local/lib/python3.8/dist-packages (from requests->transformers) (3.0.4)\n",
            "Requirement already satisfied: idna<3,>=2.5 in /usr/local/lib/python3.8/dist-packages (from requests->transformers) (2.10)\n",
            "Requirement already satisfied: urllib3!=1.25.0,!=1.25.1,<1.26,>=1.21.1 in /usr/local/lib/python3.8/dist-packages (from requests->transformers) (1.24.3)\n",
            "Installing collected packages: tokenizers, huggingface-hub, transformers\n",
            "Successfully installed huggingface-hub-0.11.1 tokenizers-0.13.2 transformers-4.25.1\n"
          ]
        }
      ],
      "source": [
        "!pip install transformers"
      ]
    },
    {
      "cell_type": "code",
      "source": [
        "from transformers import BertForSequenceClassification, BertTokenizer\n",
        "import torch\n",
        "\n",
        "# initialize our model and tokenizer\n",
        "tokenizer =  BertTokenizer.from_pretrained('ProsusAI/finbert')\n",
        "model = BertForSequenceClassification.from_pretrained('ProsusAI/finbert')"
      ],
      "metadata": {
        "colab": {
          "base_uri": "https://localhost:8080/",
          "height": 177,
          "referenced_widgets": [
            "88613838428d44eb97e6e15de6a31e57",
            "f2f4fea0721f4b9b8bf9455d922f5002",
            "f0f4620e8e8b4bae99ce3b2bf78f68c3",
            "2581a18f05934a5e8fc44d4866d35231",
            "7e69a2823a5f4c20a4dbbc8e63de5abc",
            "3e76afcee5964ea6b0f688246132bcb8",
            "d18903ce1dcf418eb121b9034f4c4353",
            "59ac42246f52446f8de264720cc62200",
            "6ba8ef285d404f849f1ab7ec78f6fab7",
            "1ee5228ebad649f8a01fefa7542fe17d",
            "d959e0663a094b5ba6391767a65c88a9",
            "903086adc2224a93b799ec778a40c07e",
            "307f82c49fc04fdba5122231bfc12510",
            "52ea670d9002454786cd226a9a7d68db",
            "a3d32d438c2e47e5a3a2cc2fba5c537a",
            "47e8635a476a4652bc9ace79cf08af02",
            "c44eede62dcb4fab8314fbafbfb2b058",
            "7a5348869cbb41849e7ef461cdad6285",
            "02d35713eab84f70b52f69fb16a5cff9",
            "3450dde005cf41499ac5c96258f55638",
            "21e219494e124c18bda98a2b3b1877f0",
            "c723e129553545e1874215f025206c57",
            "ee85da734d8843c6855267c39426401e",
            "51f04eb44881472099650f0460f97a0c",
            "a320042c7c23437ebeb2ec75296da600",
            "3970fb9c527b4d009f776cc664563863",
            "33556fc5b6ef4e3b96fdda5ca84290e7",
            "ad8bf001fcde42dd8a332cb77ecb03cd",
            "30e66bb61e384b219a0d95a37f3a80a6",
            "d7f1db0cb5c14497b59b073683e9c8fb",
            "79fa2649cd544a9a9a433e3e1eafb31e",
            "bc06b27d6e6243e1b691983568868fd6",
            "adc282c98b184bcf882c0debeda66287",
            "186eb909f7074cd88223e0c2864577db",
            "12de871f579f4361aef8da806b0f09d7",
            "f22109b1d7da4c0580cbc0dbd85f0888",
            "85182e47a36b436899d680a6e44751ef",
            "caf2714548074b4bb995283fbd57c480",
            "a0f9c0e907d04460bc4ffab03125c57a",
            "ade9bcda6cc049368c6a7f4d98b19e24",
            "c17e43525e4d4c06b260655e1cba392b",
            "0f88a1f87c044c438c7edb999807c337",
            "3c2b53c55ebb43f387a45c80ff719026",
            "97de4b0f073c4f5aa7e6a3aa74c5063d",
            "497f83ba6c0f4caba9daae944d20cffb",
            "888af5a70d584337ba2a73439d45ab6f",
            "a23cba381c6e4c8098cea11c922f489c",
            "e2efa619eef84b7981d7928a1d275500",
            "91586c13651f4f4ea6c2fcbdd3662834",
            "acc46e9fbabe4c16b9745343a21140e8",
            "bf4402f163af4480b638523bf08aff9e",
            "ed89061e16354b11a923857fe66086f1",
            "11729371aac744e4974b0c87b8ee6440",
            "7c816a32f2034950ba0cec77722cd361",
            "f11c9ebd28124acfadd6d31a0567d205"
          ]
        },
        "id": "NseWd1bPaKtn",
        "outputId": "84678827-33cd-49af-d941-38836d7e323f"
      },
      "execution_count": 2,
      "outputs": [
        {
          "output_type": "display_data",
          "data": {
            "text/plain": [
              "Downloading:   0%|          | 0.00/232k [00:00<?, ?B/s]"
            ],
            "application/vnd.jupyter.widget-view+json": {
              "version_major": 2,
              "version_minor": 0,
              "model_id": "88613838428d44eb97e6e15de6a31e57"
            }
          },
          "metadata": {}
        },
        {
          "output_type": "display_data",
          "data": {
            "text/plain": [
              "Downloading:   0%|          | 0.00/112 [00:00<?, ?B/s]"
            ],
            "application/vnd.jupyter.widget-view+json": {
              "version_major": 2,
              "version_minor": 0,
              "model_id": "903086adc2224a93b799ec778a40c07e"
            }
          },
          "metadata": {}
        },
        {
          "output_type": "display_data",
          "data": {
            "text/plain": [
              "Downloading:   0%|          | 0.00/252 [00:00<?, ?B/s]"
            ],
            "application/vnd.jupyter.widget-view+json": {
              "version_major": 2,
              "version_minor": 0,
              "model_id": "ee85da734d8843c6855267c39426401e"
            }
          },
          "metadata": {}
        },
        {
          "output_type": "display_data",
          "data": {
            "text/plain": [
              "Downloading:   0%|          | 0.00/758 [00:00<?, ?B/s]"
            ],
            "application/vnd.jupyter.widget-view+json": {
              "version_major": 2,
              "version_minor": 0,
              "model_id": "186eb909f7074cd88223e0c2864577db"
            }
          },
          "metadata": {}
        },
        {
          "output_type": "display_data",
          "data": {
            "text/plain": [
              "Downloading:   0%|          | 0.00/438M [00:00<?, ?B/s]"
            ],
            "application/vnd.jupyter.widget-view+json": {
              "version_major": 2,
              "version_minor": 0,
              "model_id": "497f83ba6c0f4caba9daae944d20cffb"
            }
          },
          "metadata": {}
        }
      ]
    },
    {
      "cell_type": "code",
      "source": [
        "# we will place the processing of our input text into a funciton for easier prediction later\n",
        "def sentiment(tokens):\n",
        "  # get output logits from the model\n",
        "  output=model(**tokens)\n",
        "  # convert to the probs \n",
        "  probs = torch.nn.functional.softmax(output[0],dim=-1)\n",
        "  return probs"
      ],
      "metadata": {
        "id": "_U2Wmu69azXx"
      },
      "execution_count": 3,
      "outputs": []
    },
    {
      "cell_type": "code",
      "source": [
        "txt = \"\"\"\n",
        "I would like to get your all  thoughts on the bond yield increase this week.  I am not worried about the market downturn but the sudden increase in yields. On 2/16 the 10 year bonds yields increased by almost  9 percent and on 2/19 the yield increased by almost 5 percent.\n",
        "\n",
        "Key Points from the CNBC Article:\n",
        "\n",
        "* **The “taper tantrum” in 2013 was a sudden spike in Treasury yields due to market panic after the Federal Reserve announced that it would begin tapering its quantitative easing program.**\n",
        "* **Major central banks around the world have cut interest rates to historic lows and launched unprecedented quantities of asset purchases in a bid to shore up the economy throughout the pandemic.**\n",
        "* **However, the recent rise in yields suggests that some investors are starting to anticipate a tightening of policy sooner than anticipated to accommodate a potential rise in inflation.**\n",
        "\n",
        "The recent rise in bond yields and U.S. inflation expectations has some investors wary that a repeat of the 2013 “taper tantrum” could be on the horizon.\n",
        "\n",
        "The benchmark U.S. 10-year Treasury note climbed above 1.3% for the first time since February 2020 earlier this week, while the 30-year bond also hit its highest level for a year. Yields move inversely to bond prices.\n",
        "\n",
        "Yields tend to rise in lockstep with inflation expectations, which have reached their highest levels in a decade in the U.S., powered by increased prospects of a large fiscal stimulus package, progress on vaccine rollouts and pent-up consumer demand.\n",
        "\n",
        "The “taper tantrum” in 2013 was a sudden spike in Treasury yields due to market panic after the Federal Reserve announced that it would begin tapering its quantitative easing program.\n",
        "\n",
        "Major central banks around the world have cut interest rates to historic lows and launched unprecedented quantities of asset purchases in a bid to shore up the economy throughout the pandemic. The Fed and others have maintained supportive tones in recent policy meetings, vowing to keep financial conditions loose as the global economy looks to emerge from the Covid-19 pandemic.\n",
        "\n",
        "However, the recent rise in yields suggests that some investors are starting to anticipate a tightening of policy sooner than anticipated to accommodate a potential rise in inflation.\n",
        "\n",
        "With central bank support removed, bonds usually fall in price which sends yields higher. This can also spill over into stock markets as higher interest rates means more debt servicing for firms, causing traders to reassess the investing environment.\n",
        "\n",
        "“The supportive stance from policymakers will likely remain in place until the vaccines have paved a way to some return to normality,” said Shane Balkham, chief investment officer at Beaufort Investment, in a research note this week.\n",
        "\n",
        "“However, there will be a risk of another ‘taper tantrum’ similar to the one we witnessed in 2013, and this is our main focus for 2021,” Balkham projected, should policymakers begin to unwind this stimulus.\n",
        "\n",
        "Long-term bond yields in Japan and Europe followed U.S. Treasurys higher toward the end of the week as bondholders shifted their portfolios.\n",
        "\n",
        "“The fear is that these assets are priced to perfection when the ECB and Fed might eventually taper,” said Sebastien Galy, senior macro strategist at Nordea Asset Management, in a research note entitled “Little taper tantrum.”\n",
        "\n",
        "“The odds of tapering are helped in the United States by better retail sales after four months of disappointment and the expectation of large issuance from the $1.9 trillion fiscal package.”\n",
        "\n",
        "Galy suggested the Fed would likely extend the duration on its asset purchases, moderating the upward momentum in inflation.\n",
        "\n",
        "“Equity markets have reacted negatively to higher yield as it offers an alternative to the dividend yield and a higher discount to long-term cash flows, making them focus more on medium-term growth such as cyclicals” he said. Cyclicals are stocks whose performance tends to align with economic cycles.\n",
        "\n",
        "Galy expects this process to be more marked in the second half of the year when economic growth picks up, increasing the potential for tapering.\n",
        "\n",
        "## Tapering in the U.S., but not Europe\n",
        "\n",
        "Allianz CEO Oliver Bäte told CNBC on Friday that there was a geographical divergence in how the German insurer is thinking about the prospect of interest rate hikes.\n",
        "\n",
        "“One is Europe, where we continue to have financial repression, where the ECB continues to buy up to the max in order to minimize spreads between the north and the south — the strong balance sheets and the weak ones — and at some point somebody will have to pay the price for that, but in the short term I don’t see any spike in interest rates,” Bäte said, adding that the situation is different stateside.\n",
        "\n",
        "“Because of the massive programs that have happened, the stimulus that is happening, the dollar being the world’s reserve currency, there is clearly a trend to stoke inflation and it is going to come. Again, I don’t know when and how, but the interest rates have been steepening and they should be steepening further.”\n",
        "\n",
        "## Rising yields a ‘normal feature’\n",
        "\n",
        "However, not all analysts are convinced that the rise in bond yields is material for markets. In a note Friday, Barclays Head of European Equity Strategy Emmanuel Cau suggested that rising bond yields were overdue, as they had been lagging the improving macroeconomic outlook for the second half of 2021, and said they were a “normal feature” of economic recovery.\n",
        "\n",
        "“With the key drivers of inflation pointing up, the prospect of even more fiscal stimulus in the U.S. and pent up demand propelled by high excess savings, it seems right for bond yields to catch-up with other more advanced reflation trades,” Cau said, adding that central banks remain “firmly on hold” given the balance of risks.\n",
        "\n",
        "He argued that the steepening yield curve is “typical at the early stages of the cycle,” and that so long as vaccine rollouts are successful, growth continues to tick upward and central banks remain cautious, reflationary moves across asset classes look “justified” and equities should be able to withstand higher rates.\n",
        "\n",
        "“Of course, after the strong move of the last few weeks, equities could mark a pause as many sectors that have rallied with yields look overbought, like commodities and banks,” Cau said.\n",
        "\n",
        "“But at this stage, we think rising yields are more a confirmation of the equity bull market than a threat, so dips should continue to be bought.”\n",
        "\"\"\"\n",
        "\n",
        "tokens = tokenizer.encode_plus(txt, add_special_token=False,\n",
        "                               return_tensors='pt') # pt stands for returning pytorch array\n",
        "len(tokens['input_ids'])\n",
        "tokens"
      ],
      "metadata": {
        "colab": {
          "base_uri": "https://localhost:8080/"
        },
        "id": "n3Cy6cLMaxKn",
        "outputId": "833e7a24-09a7-4e87-dab0-aafc5562af03"
      },
      "execution_count": 4,
      "outputs": [
        {
          "output_type": "stream",
          "name": "stderr",
          "text": [
            "Keyword arguments {'add_special_token': False} not recognized.\n",
            "Token indices sequence length is longer than the specified maximum sequence length for this model (1347 > 512). Running this sequence through the model will result in indexing errors\n"
          ]
        },
        {
          "output_type": "execute_result",
          "data": {
            "text/plain": [
              "{'input_ids': tensor([[ 101, 1045, 2052,  ..., 1012, 1524,  102]]), 'token_type_ids': tensor([[0, 0, 0,  ..., 0, 0, 0]]), 'attention_mask': tensor([[1, 1, 1,  ..., 1, 1, 1]])}"
            ]
          },
          "metadata": {},
          "execution_count": 4
        }
      ]
    },
    {
      "cell_type": "markdown",
      "source": [
        "Each tensor contains 1345 tokens, so similar to what we did.\n",
        "1. We create the tensor of 512 tokens"
      ],
      "metadata": {
        "id": "NhepfhaDbR8P"
      }
    },
    {
      "cell_type": "code",
      "source": [
        "a = torch.arange(10)\n",
        "a"
      ],
      "metadata": {
        "colab": {
          "base_uri": "https://localhost:8080/"
        },
        "id": "MuBg-1debgeX",
        "outputId": "e69a9040-2495-4f66-b4ed-58ee8c6277ce"
      },
      "execution_count": 20,
      "outputs": [
        {
          "output_type": "execute_result",
          "data": {
            "text/plain": [
              "tensor([0, 1, 2, 3, 4, 5, 6, 7, 8, 9])"
            ]
          },
          "metadata": {},
          "execution_count": 20
        }
      ]
    },
    {
      "cell_type": "code",
      "source": [
        "torch.split(a,4) # this is similar to what we were doing before with different batches"
      ],
      "metadata": {
        "colab": {
          "base_uri": "https://localhost:8080/"
        },
        "id": "2WGmPIZ9boPv",
        "outputId": "cd73dd1f-9188-408f-b115-1f80407f4980"
      },
      "execution_count": 7,
      "outputs": [
        {
          "output_type": "execute_result",
          "data": {
            "text/plain": [
              "(tensor([0, 1, 2, 3]), tensor([4, 5, 6, 7]), tensor([8, 9]))"
            ]
          },
          "metadata": {},
          "execution_count": 7
        }
      ]
    },
    {
      "cell_type": "code",
      "source": [
        "input_ids_chuck = tokens['input_ids'][0].split(510)\n",
        "mask_chunck = tokens['attention_mask'][0].split(510)\n",
        "input_ids_chuck"
      ],
      "metadata": {
        "colab": {
          "base_uri": "https://localhost:8080/"
        },
        "id": "nQeensyibyHJ",
        "outputId": "bf0cd9ef-d8e3-4ceb-f7c0-721a42ad4666"
      },
      "execution_count": 29,
      "outputs": [
        {
          "output_type": "execute_result",
          "data": {
            "text/plain": [
              "(tensor([  101,  1045,  2052,  2066,  2000,  2131,  2115,  2035,  4301,  2006,\n",
              "          1996,  5416, 10750,  3623,  2023,  2733,  1012,  1045,  2572,  2025,\n",
              "          5191,  2055,  1996,  3006,  2091, 22299,  2021,  1996,  5573,  3623,\n",
              "          1999, 16189,  1012,  2006,  1016,  1013,  2385,  1996,  2184,  2095,\n",
              "          9547, 16189,  3445,  2011,  2471,  1023,  3867,  1998,  2006,  1016,\n",
              "          1013,  2539,  1996, 10750,  3445,  2011,  2471,  1019,  3867,  1012,\n",
              "          3145,  2685,  2013,  1996, 27166,  9818,  3720,  1024,  1008,  1008,\n",
              "          1008,  1996,  1523,  6823,  2099,  9092, 24456,  1524,  1999,  2286,\n",
              "          2001,  1037,  5573,  9997,  1999,  9837, 16189,  2349,  2000,  3006,\n",
              "          6634,  2044,  1996,  2976,  3914,  2623,  2008,  2009,  2052,  4088,\n",
              "          6823,  4892,  2049, 20155, 24070,  2565,  1012,  1008,  1008,  1008,\n",
              "          1008,  1008,  2350,  2430,  5085,  2105,  1996,  2088,  2031,  3013,\n",
              "          3037,  6165,  2000,  3181,  2659,  2015,  1998,  3390, 15741, 12450,\n",
              "          1997, 11412, 17402,  1999,  1037,  7226,  2000,  5370,  2039,  1996,\n",
              "          4610,  2802,  1996,  6090,  3207,  7712,  1012,  1008,  1008,  1008,\n",
              "          1008,  1008,  2174,  1010,  1996,  3522,  4125,  1999, 16189,  6083,\n",
              "          2008,  2070,  9387,  2024,  3225,  2000,  3424,  6895, 17585,  1037,\n",
              "         18711,  1997,  3343, 10076,  2084, 11436,  2000,  8752,  1037,  4022,\n",
              "          4125,  1999, 14200,  1012,  1008,  1008,  1996,  3522,  4125,  1999,\n",
              "          5416, 16189,  1998,  1057,  1012,  1055,  1012, 14200, 10908,  2038,\n",
              "          2070,  9387, 15705,  2008,  1037,  9377,  1997,  1996,  2286,  1523,\n",
              "          6823,  2099,  9092, 24456,  1524,  2071,  2022,  2006,  1996,  9154,\n",
              "          1012,  1996,  6847, 10665,  1057,  1012,  1055,  1012,  2184,  1011,\n",
              "          2095,  9837,  3602,  6589,  2682,  1015,  1012,  1017,  1003,  2005,\n",
              "          1996,  2034,  2051,  2144,  2337, 12609,  3041,  2023,  2733,  1010,\n",
              "          2096,  1996,  2382,  1011,  2095,  5416,  2036,  2718,  2049,  3284,\n",
              "          2504,  2005,  1037,  2095,  1012, 16189,  2693, 19262,  2135,  2000,\n",
              "          5416,  7597,  1012, 16189,  7166,  2000,  4125,  1999, 11223,  2618,\n",
              "          2361,  2007, 14200, 10908,  1010,  2029,  2031,  2584,  2037,  3284,\n",
              "          3798,  1999,  1037,  5476,  1999,  1996,  1057,  1012,  1055,  1012,\n",
              "          1010,  6113,  2011,  3445, 16746,  1997,  1037,  2312, 10807, 19220,\n",
              "          7427,  1010,  5082,  2006, 17404,  4897, 12166,  1998,  7279,  2102,\n",
              "          1011,  2039,  7325,  5157,  1012,  1996,  1523,  6823,  2099,  9092,\n",
              "         24456,  1524,  1999,  2286,  2001,  1037,  5573,  9997,  1999,  9837,\n",
              "         16189,  2349,  2000,  3006,  6634,  2044,  1996,  2976,  3914,  2623,\n",
              "          2008,  2009,  2052,  4088,  6823,  4892,  2049, 20155, 24070,  2565,\n",
              "          1012,  2350,  2430,  5085,  2105,  1996,  2088,  2031,  3013,  3037,\n",
              "          6165,  2000,  3181,  2659,  2015,  1998,  3390, 15741, 12450,  1997,\n",
              "         11412, 17402,  1999,  1037,  7226,  2000,  5370,  2039,  1996,  4610,\n",
              "          2802,  1996,  6090,  3207,  7712,  1012,  1996,  7349,  1998,  2500,\n",
              "          2031,  5224, 16408, 12623,  1999,  3522,  3343,  6295,  1010, 19076,\n",
              "          2075,  2000,  2562,  3361,  3785,  6065,  2004,  1996,  3795,  4610,\n",
              "          3504,  2000, 12636,  2013,  1996,  2522, 17258,  1011,  2539,  6090,\n",
              "          3207,  7712,  1012,  2174,  1010,  1996,  3522,  4125,  1999, 16189,\n",
              "          6083,  2008,  2070,  9387,  2024,  3225,  2000,  3424,  6895, 17585,\n",
              "          1037, 18711,  1997,  3343, 10076,  2084, 11436,  2000,  8752,  1037,\n",
              "          4022,  4125,  1999, 14200,  1012,  2007,  2430,  2924,  2490,  3718,\n",
              "          1010,  9547,  2788,  2991,  1999,  3976,  2029, 10255, 16189,  3020,\n",
              "          1012,  2023,  2064,  2036, 14437,  2058,  2046,  4518,  6089,  2004,\n",
              "          3020,  3037,  6165,  2965,  2062,  7016, 26804,  2005,  9786,  1010,\n",
              "          4786, 13066,  2000,  2128, 27241,  4757,  1996, 19920,  4044,  1012]),\n",
              " tensor([ 1523,  1996, 16408, 11032,  2013,  3343, 12088,  2097,  3497,  3961,\n",
              "          1999,  2173,  2127,  1996, 28896,  2031, 12308,  1037,  2126,  2000,\n",
              "          2070,  2709,  2000,  3671,  3012,  1010,  1524,  2056,  8683, 28352,\n",
              "         15256,  2213,  1010,  2708,  5211,  2961,  2012, 23622,  5211,  1010,\n",
              "          1999,  1037,  2470,  3602,  2023,  2733,  1012,  1523,  2174,  1010,\n",
              "          2045,  2097,  2022,  1037,  3891,  1997,  2178,  1520,  6823,  2099,\n",
              "          9092, 24456,  1521,  2714,  2000,  1996,  2028,  2057,  9741,  1999,\n",
              "          2286,  1010,  1998,  2023,  2003,  2256,  2364,  3579,  2005, 25682,\n",
              "          1010,  1524, 28352, 15256,  2213, 11310,  1010,  2323,  3343, 12088,\n",
              "          4088,  2000,  4895, 11101,  2023, 19220,  1012,  2146,  1011,  2744,\n",
              "          5416, 16189,  1999,  2900,  1998,  2885,  2628,  1057,  1012,  1055,\n",
              "          1012,  9837,  2015,  3020,  2646,  1996,  2203,  1997,  1996,  2733,\n",
              "          2004,  5416, 17794,  5429,  2037, 11103,  2015,  1012,  1523,  1996,\n",
              "          3571,  2003,  2008,  2122,  7045,  2024, 21125,  2000, 15401,  2043,\n",
              "          1996, 14925,  2497,  1998,  7349,  2453,  2776,  6823,  2099,  1010,\n",
              "          1524,  2056, 28328, 14891,  2100,  1010,  3026, 26632,  2358, 11657,\n",
              "         24063,  2012, 13926,  5243, 11412,  2968,  1010,  1999,  1037,  2470,\n",
              "          3602,  4709,  1523,  2210,  6823,  2099,  9092, 24456,  1012,  1524,\n",
              "          1523,  1996, 10238,  1997,  6823,  4892,  2024,  3271,  1999,  1996,\n",
              "          2142,  2163,  2011,  2488,  7027,  4341,  2044,  2176,  2706,  1997,\n",
              "         10520,  1998,  1996, 17626,  1997,  2312, 26354, 26620,  2013,  1996,\n",
              "          1002,  1015,  1012,  1023, 23458, 10807,  7427,  1012,  1524, 14891,\n",
              "          2100,  4081,  1996,  7349,  2052,  3497,  7949,  1996,  9367,  2006,\n",
              "          2049, 11412, 17402,  1010,  5549, 15172,  1996, 10745, 11071,  1999,\n",
              "         14200,  1012,  1523, 10067,  6089,  2031, 14831, 19762,  2000,  3020,\n",
              "         10750,  2004,  2009,  4107,  2019,  4522,  2000,  1996, 11443,  4859,\n",
              "         10750,  1998,  1037,  3020, 19575,  2000,  2146,  1011,  2744,  5356,\n",
              "          6223,  1010,  2437,  2068,  3579,  2062,  2006,  5396,  1011,  2744,\n",
              "          3930,  2107,  2004, 23750,  9777,  1524,  2002,  2056,  1012, 23750,\n",
              "          9777,  2024, 15768,  3005,  2836, 12102,  2000, 25705,  2007,  3171,\n",
              "         12709,  1012, 14891,  2100, 24273,  2023,  2832,  2000,  2022,  2062,\n",
              "          4417,  1999,  1996,  2117,  2431,  1997,  1996,  2095,  2043,  3171,\n",
              "          3930, 11214,  2039,  1010,  4852,  1996,  4022,  2005,  6823,  4892,\n",
              "          1012,  1001,  1001,  6823,  4892,  1999,  1996,  1057,  1012,  1055,\n",
              "          1012,  1010,  2021,  2025,  2885,  2035,  2937,  2480,  5766,  6291,\n",
              "          7151,  2063,  2409, 27166,  9818,  2006,  5958,  2008,  2045,  2001,\n",
              "          1037, 10056, 17856, 17905,  1999,  2129,  1996,  2446, 16021, 27595,\n",
              "          2003,  3241,  2055,  1996,  9824,  1997,  3037,  3446, 21857,  2015,\n",
              "          1012,  1523,  2028,  2003,  2885,  1010,  2073,  2057,  3613,  2000,\n",
              "          2031,  3361, 22422,  1010,  2073,  1996, 14925,  2497,  4247,  2000,\n",
              "          4965,  2039,  2000,  1996,  4098,  1999,  2344,  2000, 18478, 20861,\n",
              "          2090,  1996,  2167,  1998,  1996,  2148,  1517,  1996,  2844,  5703,\n",
              "          8697,  1998,  1996,  5410,  3924,  1517,  1998,  2012,  2070,  2391,\n",
              "          8307,  2097,  2031,  2000,  3477,  1996,  3976,  2005,  2008,  1010,\n",
              "          2021,  1999,  1996,  2460,  2744,  1045,  2123,  1521,  1056,  2156,\n",
              "          2151,  9997,  1999,  3037,  6165,  1010,  1524,  7151,  2063,  2056,\n",
              "          1010,  5815,  2008,  1996,  3663,  2003,  2367,  2163,  5178,  1012,\n",
              "          1523,  2138,  1997,  1996,  5294,  3454,  2008,  2031,  3047,  1010,\n",
              "          1996, 19220,  2008,  2003,  6230,  1010,  1996,  7922,  2108,  1996,\n",
              "          2088,  1521,  1055,  3914,  9598,  1010,  2045,  2003,  4415,  1037,\n",
              "          9874,  2000, 13299, 14200,  1998,  2009,  2003,  2183,  2000,  2272]),\n",
              " tensor([ 1012,  2153,  1010,  1045,  2123,  1521,  1056,  2113,  2043,  1998,\n",
              "          2129,  1010,  2021,  1996,  3037,  6165,  2031,  2042,  9561,  7406,\n",
              "          1998,  2027,  2323,  2022,  9561,  7406,  2582,  1012,  1524,  1001,\n",
              "          1001,  4803, 16189,  1037,  1520,  3671,  3444,  1521,  2174,  1010,\n",
              "          2025,  2035, 18288,  2024,  6427,  2008,  1996,  4125,  1999,  5416,\n",
              "         16189,  2003,  3430,  2005,  6089,  1012,  1999,  1037,  3602,  5958,\n",
              "          1010, 23724,  2015,  2132,  1997,  2647, 10067,  5656, 14459,  6187,\n",
              "          2226,  4081,  2008,  4803,  5416, 16189,  2020,  2058, 20041,  1010,\n",
              "          2004,  2027,  2018,  2042,  2474, 12588,  1996,  9229, 26632, 23035,\n",
              "         17680,  2005,  1996,  2117,  2431,  1997, 25682,  1010,  1998,  2056,\n",
              "          2027,  2020,  1037,  1523,  3671,  3444,  1524,  1997,  3171,  7233,\n",
              "          1012,  1523,  2007,  1996,  3145,  6853,  1997, 14200,  7302,  2039,\n",
              "          1010,  1996,  9824,  1997,  2130,  2062, 10807, 19220,  1999,  1996,\n",
              "          1057,  1012,  1055,  1012,  1998,  7279,  2102,  2039,  5157, 15801,\n",
              "          2011,  2152,  9987, 10995,  1010,  2009,  3849,  2157,  2005,  5416,\n",
              "         16189,  2000,  4608,  1011,  2039,  2007,  2060,  2062,  3935, 25416,\n",
              "         13490, 14279,  1010,  1524,  6187,  2226,  2056,  1010,  5815,  2008,\n",
              "          2430,  5085,  3961,  1523,  7933,  2006,  2907,  1524,  2445,  1996,\n",
              "          5703,  1997, 10831,  1012,  2002,  5275,  2008,  1996,  9561,  7406,\n",
              "         10750,  7774,  2003,  1523,  5171,  2012,  1996,  2220,  5711,  1997,\n",
              "          1996,  5402,  1010,  1524,  1998,  2008,  2061,  2146,  2004, 17404,\n",
              "          4897, 12166,  2024,  3144,  1010,  3930,  4247,  2000, 16356, 10745,\n",
              "          1998,  2430,  5085,  3961, 17145,  1010, 25416, 13490,  5649,  5829,\n",
              "          2408, 11412,  4280,  2298,  1523, 15123,  1524,  1998,  1041, 15549,\n",
              "          7368,  2323,  2022,  2583,  2000, 19319,  3020,  6165,  1012,  1523,\n",
              "          1997,  2607,  1010,  2044,  1996,  2844,  2693,  1997,  1996,  2197,\n",
              "          2261,  3134,  1010,  1041, 15549,  7368,  2071,  2928,  1037,  8724,\n",
              "          2004,  2116, 11105,  2008,  2031, 24356,  2007, 16189,  2298,  2058,\n",
              "          5092, 18533,  1010,  2066, 21955,  1998,  5085,  1010,  1524,  6187,\n",
              "          2226,  2056,  1012,  1523,  2021,  2012,  2023,  2754,  1010,  2057,\n",
              "          2228,  4803, 16189,  2024,  2062,  1037, 13964,  1997,  1996, 10067,\n",
              "          7087,  3006,  2084,  1037,  5081,  1010,  2061, 16510,  2015,  2323,\n",
              "          3613,  2000,  2022,  4149,  1012,  1524,   102]))"
            ]
          },
          "metadata": {},
          "execution_count": 29
        }
      ]
    },
    {
      "cell_type": "code",
      "source": [
        "len(input_ids_chuck[0]), len(input_ids_chuck[2])"
      ],
      "metadata": {
        "colab": {
          "base_uri": "https://localhost:8080/"
        },
        "id": "myc_bt_PcwHs",
        "outputId": "2e4a1383-8c2c-4dbb-d389-9a7af1a07d92"
      },
      "execution_count": 17,
      "outputs": [
        {
          "output_type": "execute_result",
          "data": {
            "text/plain": [
              "(510, 327)"
            ]
          },
          "metadata": {},
          "execution_count": 17
        }
      ]
    },
    {
      "cell_type": "code",
      "source": [
        "a = torch.cat(\n",
        "    [torch.Tensor([101]) ,a, torch.Tensor([102])]\n",
        ")\n",
        "\n",
        "a"
      ],
      "metadata": {
        "colab": {
          "base_uri": "https://localhost:8080/"
        },
        "id": "7IkUjN26c666",
        "outputId": "4aa9d50b-b42b-4de8-e4d8-64811e03e2f7"
      },
      "execution_count": 21,
      "outputs": [
        {
          "output_type": "execute_result",
          "data": {
            "text/plain": [
              "tensor([101.,   0.,   1.,   2.,   3.,   4.,   5.,   6.,   7.,   8.,   9., 102.])"
            ]
          },
          "metadata": {},
          "execution_count": 21
        }
      ]
    },
    {
      "cell_type": "code",
      "source": [
        "padding_len = 20 - a.shape[0]\n",
        "padding_len"
      ],
      "metadata": {
        "colab": {
          "base_uri": "https://localhost:8080/"
        },
        "id": "2N1grOipe52A",
        "outputId": "394282fb-160a-4c9a-a077-1f53d7a7337b"
      },
      "execution_count": 23,
      "outputs": [
        {
          "output_type": "execute_result",
          "data": {
            "text/plain": [
              "8"
            ]
          },
          "metadata": {},
          "execution_count": 23
        }
      ]
    },
    {
      "cell_type": "code",
      "source": [
        "if padding_len > 0:\n",
        "  a = torch.cat(\n",
        "      [a, torch.Tensor([0]*padding_len)]\n",
        "  )\n",
        "a"
      ],
      "metadata": {
        "colab": {
          "base_uri": "https://localhost:8080/"
        },
        "id": "-RDRJ2Z8fGZt",
        "outputId": "5d8224c4-fe6f-4993-c304-853d20ab76d6"
      },
      "execution_count": 26,
      "outputs": [
        {
          "output_type": "execute_result",
          "data": {
            "text/plain": [
              "tensor([101.,   0.,   1.,   2.,   3.,   4.,   5.,   6.,   7.,   8.,   9., 102.,\n",
              "          0.,   0.,   0.,   0.,   0.,   0.,   0.,   0.,   0.,   0.,   0.,   0.,\n",
              "          0.,   0.,   0.,   0.])"
            ]
          },
          "metadata": {},
          "execution_count": 26
        }
      ]
    },
    {
      "cell_type": "markdown",
      "source": [
        "We need to have a look first at our input ID chuck: it is a tuple and we need to convert into a list because we can't modify the values in the tuple as they are immutable"
      ],
      "metadata": {
        "id": "-S7htFoXiAkZ"
      }
    },
    {
      "cell_type": "code",
      "source": [
        "type(input_ids_chuck)"
      ],
      "metadata": {
        "colab": {
          "base_uri": "https://localhost:8080/"
        },
        "id": "ZGcdWuXOh8tw",
        "outputId": "4fdd1978-259d-4f95-fb3a-8157ee030bce"
      },
      "execution_count": 34,
      "outputs": [
        {
          "output_type": "execute_result",
          "data": {
            "text/plain": [
              "tuple"
            ]
          },
          "metadata": {},
          "execution_count": 34
        }
      ]
    },
    {
      "cell_type": "code",
      "source": [
        "chuncksize = 512\n",
        "input_ids_chuck = list(tokens['input_ids'][0].split(chuncksize-2))\n",
        "mask_chunck = list(tokens['attention_mask'][0].split(chuncksize-2))\n",
        "\n",
        "for i in range(len(input_ids_chuck)):\n",
        "  input_ids_chuck[i] = torch.cat(\n",
        "      [torch.Tensor([101]), input_ids_chuck[i],  torch.Tensor([102])]\n",
        "  )\n",
        "\n",
        "  mask_chunck[i] = torch.cat(\n",
        "      [torch.Tensor([1]), mask_chunck[i], torch.Tensor([1])]\n",
        "  )\n",
        "\n",
        "  padding_len = chuncksize - len(input_ids_chuck[i])\n",
        "  if padding_len > 0:\n",
        "\n",
        "    input_ids_chuck[i] = torch.cat(\n",
        "        [input_ids_chuck[i], torch.Tensor([0]*padding_len)]\n",
        "    )\n",
        "\n",
        "    mask_chunck[i] = torch.cat(\n",
        "        [mask_chunck[i], torch.Tensor([0]*padding_len)]\n",
        "    )"
      ],
      "metadata": {
        "id": "XiPC3jCafJBv"
      },
      "execution_count": 60,
      "outputs": []
    },
    {
      "cell_type": "code",
      "source": [
        "for c in input_ids_chuck:\n",
        "  print(len(c))"
      ],
      "metadata": {
        "colab": {
          "base_uri": "https://localhost:8080/"
        },
        "id": "NbAy4NaWgK3S",
        "outputId": "a0027d3e-3af9-4026-fc54-0e6fb5a6a598"
      },
      "execution_count": 42,
      "outputs": [
        {
          "output_type": "stream",
          "name": "stdout",
          "text": [
            "512\n",
            "512\n",
            "512\n"
          ]
        }
      ]
    },
    {
      "cell_type": "markdown",
      "source": [
        "Now we need to place our tensors in the dictionary kind of format we had before"
      ],
      "metadata": {
        "id": "dUba_WjyjR62"
      }
    },
    {
      "cell_type": "code",
      "source": [
        "input_ids = torch.stack(input_ids_chuck)\n",
        "attention_mask = torch.stack(mask_chunck)"
      ],
      "metadata": {
        "id": "mH0RTc4didC4"
      },
      "execution_count": 61,
      "outputs": []
    },
    {
      "cell_type": "code",
      "source": [
        "input_ids"
      ],
      "metadata": {
        "colab": {
          "base_uri": "https://localhost:8080/"
        },
        "id": "TOINoAtzjsJg",
        "outputId": "0f455a7c-0ad3-4d70-d7a6-d46129d42ad2"
      },
      "execution_count": 62,
      "outputs": [
        {
          "output_type": "execute_result",
          "data": {
            "text/plain": [
              "tensor([[ 101.,  101., 1045.,  ..., 4044., 1012.,  102.],\n",
              "        [ 101., 1523., 1996.,  ..., 2000., 2272.,  102.],\n",
              "        [ 101., 1012., 2153.,  ...,    0.,    0.,    0.]])"
            ]
          },
          "metadata": {},
          "execution_count": 62
        }
      ]
    },
    {
      "cell_type": "code",
      "source": [
        "# now we can create our inout dict\n",
        "input_dict = {'input_ids':input_ids.long(),\n",
        "              'attention_mask':attention_mask.int()}\n",
        "input_dict"
      ],
      "metadata": {
        "colab": {
          "base_uri": "https://localhost:8080/"
        },
        "id": "0vzi5E04jzVM",
        "outputId": "c9d55102-a327-4291-bb42-068e86bf8222"
      },
      "execution_count": 63,
      "outputs": [
        {
          "output_type": "execute_result",
          "data": {
            "text/plain": [
              "{'input_ids': tensor([[ 101,  101, 1045,  ..., 4044, 1012,  102],\n",
              "         [ 101, 1523, 1996,  ..., 2000, 2272,  102],\n",
              "         [ 101, 1012, 2153,  ...,    0,    0,    0]]),\n",
              " 'attention_mask': tensor([[1, 1, 1,  ..., 1, 1, 1],\n",
              "         [1, 1, 1,  ..., 1, 1, 1],\n",
              "         [1, 1, 1,  ..., 0, 0, 0]], dtype=torch.int32)}"
            ]
          },
          "metadata": {},
          "execution_count": 63
        }
      ]
    },
    {
      "cell_type": "markdown",
      "source": [
        "Now we can process and calc the prob"
      ],
      "metadata": {
        "id": "4FtPXQBgkRAw"
      }
    },
    {
      "cell_type": "code",
      "source": [
        "outputs = model(**input_dict)\n",
        "probs = torch.nn.functional.softmax(outputs[0], dim=-1)\n",
        "probs = probs.mean(dim=0)"
      ],
      "metadata": {
        "id": "awUhSAvkkWva"
      },
      "execution_count": 64,
      "outputs": []
    },
    {
      "cell_type": "code",
      "source": [
        "outputs"
      ],
      "metadata": {
        "colab": {
          "base_uri": "https://localhost:8080/"
        },
        "id": "3xCjsv--le52",
        "outputId": "07a595c7-5aaf-4041-8f38-c9a58c174a4a"
      },
      "execution_count": 65,
      "outputs": [
        {
          "output_type": "execute_result",
          "data": {
            "text/plain": [
              "SequenceClassifierOutput(loss=None, logits=tensor([[-0.2780,  1.6019, -1.4495],\n",
              "        [ 0.1965,  0.4759, -1.0720],\n",
              "        [ 1.0182, -0.2588, -1.3995]], grad_fn=<AddmmBackward0>), hidden_states=None, attentions=None)"
            ]
          },
          "metadata": {},
          "execution_count": 65
        }
      ]
    },
    {
      "cell_type": "code",
      "source": [
        "probs"
      ],
      "metadata": {
        "colab": {
          "base_uri": "https://localhost:8080/"
        },
        "id": "ZWI5m4IRksIj",
        "outputId": "545e6c5e-068e-4841-b458-4ecd374db275"
      },
      "execution_count": 66,
      "outputs": [
        {
          "output_type": "execute_result",
          "data": {
            "text/plain": [
              "tensor([0.4141, 0.5151, 0.0709], grad_fn=<MeanBackward1>)"
            ]
          },
          "metadata": {},
          "execution_count": 66
        }
      ]
    },
    {
      "cell_type": "code",
      "source": [
        "torch.argmax(probs).item()"
      ],
      "metadata": {
        "colab": {
          "base_uri": "https://localhost:8080/"
        },
        "id": "AWcgvaMKmSJv",
        "outputId": "e0ead00c-5a06-4c9c-a102-bee792fe4bc8"
      },
      "execution_count": 67,
      "outputs": [
        {
          "output_type": "execute_result",
          "data": {
            "text/plain": [
              "1"
            ]
          },
          "metadata": {},
          "execution_count": 67
        }
      ]
    }
  ]
}
