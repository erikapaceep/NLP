{
  "nbformat": 4,
  "nbformat_minor": 0,
  "metadata": {
    "colab": {
      "provenance": [],
      "authorship_tag": "ABX9TyMn/lcAarahcmyWuoVmWTwB",
      "include_colab_link": true
    },
    "kernelspec": {
      "name": "python3",
      "display_name": "Python 3"
    },
    "language_info": {
      "name": "python"
    },
    "widgets": {
      "application/vnd.jupyter.widget-state+json": {
        "9753e07fe2654d339c7206fcc1bb9d66": {
          "model_module": "@jupyter-widgets/controls",
          "model_name": "HBoxModel",
          "model_module_version": "1.5.0",
          "state": {
            "_dom_classes": [],
            "_model_module": "@jupyter-widgets/controls",
            "_model_module_version": "1.5.0",
            "_model_name": "HBoxModel",
            "_view_count": null,
            "_view_module": "@jupyter-widgets/controls",
            "_view_module_version": "1.5.0",
            "_view_name": "HBoxView",
            "box_style": "",
            "children": [
              "IPY_MODEL_468a024d95984eff94bf8b45a86ff1b9",
              "IPY_MODEL_23e3d78eb03249db99a414240041a0b2",
              "IPY_MODEL_d0ac0d31a947441ebe1bf54431384389"
            ],
            "layout": "IPY_MODEL_821f2b4a7a40489ea915af23fb3baacc"
          }
        },
        "468a024d95984eff94bf8b45a86ff1b9": {
          "model_module": "@jupyter-widgets/controls",
          "model_name": "HTMLModel",
          "model_module_version": "1.5.0",
          "state": {
            "_dom_classes": [],
            "_model_module": "@jupyter-widgets/controls",
            "_model_module_version": "1.5.0",
            "_model_name": "HTMLModel",
            "_view_count": null,
            "_view_module": "@jupyter-widgets/controls",
            "_view_module_version": "1.5.0",
            "_view_name": "HTMLView",
            "description": "",
            "description_tooltip": null,
            "layout": "IPY_MODEL_b650edab70bc4f768ae80667cb3664a8",
            "placeholder": "​",
            "style": "IPY_MODEL_f7db6f7cf5ee4023b28431c805d7e532",
            "value": "Downloading: 100%"
          }
        },
        "23e3d78eb03249db99a414240041a0b2": {
          "model_module": "@jupyter-widgets/controls",
          "model_name": "FloatProgressModel",
          "model_module_version": "1.5.0",
          "state": {
            "_dom_classes": [],
            "_model_module": "@jupyter-widgets/controls",
            "_model_module_version": "1.5.0",
            "_model_name": "FloatProgressModel",
            "_view_count": null,
            "_view_module": "@jupyter-widgets/controls",
            "_view_module_version": "1.5.0",
            "_view_name": "ProgressView",
            "bar_style": "success",
            "description": "",
            "description_tooltip": null,
            "layout": "IPY_MODEL_9d50f1e4027b4dc49cc41f7a0535137a",
            "max": 438007537,
            "min": 0,
            "orientation": "horizontal",
            "style": "IPY_MODEL_802f1640b3f44949a258d380ab67a72a",
            "value": 438007537
          }
        },
        "d0ac0d31a947441ebe1bf54431384389": {
          "model_module": "@jupyter-widgets/controls",
          "model_name": "HTMLModel",
          "model_module_version": "1.5.0",
          "state": {
            "_dom_classes": [],
            "_model_module": "@jupyter-widgets/controls",
            "_model_module_version": "1.5.0",
            "_model_name": "HTMLModel",
            "_view_count": null,
            "_view_module": "@jupyter-widgets/controls",
            "_view_module_version": "1.5.0",
            "_view_name": "HTMLView",
            "description": "",
            "description_tooltip": null,
            "layout": "IPY_MODEL_898ff39e82754f7989d1dae83be7dca3",
            "placeholder": "​",
            "style": "IPY_MODEL_1dc049a6805c414fae63d08934f0fe47",
            "value": " 438M/438M [00:13&lt;00:00, 21.0MB/s]"
          }
        },
        "821f2b4a7a40489ea915af23fb3baacc": {
          "model_module": "@jupyter-widgets/base",
          "model_name": "LayoutModel",
          "model_module_version": "1.2.0",
          "state": {
            "_model_module": "@jupyter-widgets/base",
            "_model_module_version": "1.2.0",
            "_model_name": "LayoutModel",
            "_view_count": null,
            "_view_module": "@jupyter-widgets/base",
            "_view_module_version": "1.2.0",
            "_view_name": "LayoutView",
            "align_content": null,
            "align_items": null,
            "align_self": null,
            "border": null,
            "bottom": null,
            "display": null,
            "flex": null,
            "flex_flow": null,
            "grid_area": null,
            "grid_auto_columns": null,
            "grid_auto_flow": null,
            "grid_auto_rows": null,
            "grid_column": null,
            "grid_gap": null,
            "grid_row": null,
            "grid_template_areas": null,
            "grid_template_columns": null,
            "grid_template_rows": null,
            "height": null,
            "justify_content": null,
            "justify_items": null,
            "left": null,
            "margin": null,
            "max_height": null,
            "max_width": null,
            "min_height": null,
            "min_width": null,
            "object_fit": null,
            "object_position": null,
            "order": null,
            "overflow": null,
            "overflow_x": null,
            "overflow_y": null,
            "padding": null,
            "right": null,
            "top": null,
            "visibility": null,
            "width": null
          }
        },
        "b650edab70bc4f768ae80667cb3664a8": {
          "model_module": "@jupyter-widgets/base",
          "model_name": "LayoutModel",
          "model_module_version": "1.2.0",
          "state": {
            "_model_module": "@jupyter-widgets/base",
            "_model_module_version": "1.2.0",
            "_model_name": "LayoutModel",
            "_view_count": null,
            "_view_module": "@jupyter-widgets/base",
            "_view_module_version": "1.2.0",
            "_view_name": "LayoutView",
            "align_content": null,
            "align_items": null,
            "align_self": null,
            "border": null,
            "bottom": null,
            "display": null,
            "flex": null,
            "flex_flow": null,
            "grid_area": null,
            "grid_auto_columns": null,
            "grid_auto_flow": null,
            "grid_auto_rows": null,
            "grid_column": null,
            "grid_gap": null,
            "grid_row": null,
            "grid_template_areas": null,
            "grid_template_columns": null,
            "grid_template_rows": null,
            "height": null,
            "justify_content": null,
            "justify_items": null,
            "left": null,
            "margin": null,
            "max_height": null,
            "max_width": null,
            "min_height": null,
            "min_width": null,
            "object_fit": null,
            "object_position": null,
            "order": null,
            "overflow": null,
            "overflow_x": null,
            "overflow_y": null,
            "padding": null,
            "right": null,
            "top": null,
            "visibility": null,
            "width": null
          }
        },
        "f7db6f7cf5ee4023b28431c805d7e532": {
          "model_module": "@jupyter-widgets/controls",
          "model_name": "DescriptionStyleModel",
          "model_module_version": "1.5.0",
          "state": {
            "_model_module": "@jupyter-widgets/controls",
            "_model_module_version": "1.5.0",
            "_model_name": "DescriptionStyleModel",
            "_view_count": null,
            "_view_module": "@jupyter-widgets/base",
            "_view_module_version": "1.2.0",
            "_view_name": "StyleView",
            "description_width": ""
          }
        },
        "9d50f1e4027b4dc49cc41f7a0535137a": {
          "model_module": "@jupyter-widgets/base",
          "model_name": "LayoutModel",
          "model_module_version": "1.2.0",
          "state": {
            "_model_module": "@jupyter-widgets/base",
            "_model_module_version": "1.2.0",
            "_model_name": "LayoutModel",
            "_view_count": null,
            "_view_module": "@jupyter-widgets/base",
            "_view_module_version": "1.2.0",
            "_view_name": "LayoutView",
            "align_content": null,
            "align_items": null,
            "align_self": null,
            "border": null,
            "bottom": null,
            "display": null,
            "flex": null,
            "flex_flow": null,
            "grid_area": null,
            "grid_auto_columns": null,
            "grid_auto_flow": null,
            "grid_auto_rows": null,
            "grid_column": null,
            "grid_gap": null,
            "grid_row": null,
            "grid_template_areas": null,
            "grid_template_columns": null,
            "grid_template_rows": null,
            "height": null,
            "justify_content": null,
            "justify_items": null,
            "left": null,
            "margin": null,
            "max_height": null,
            "max_width": null,
            "min_height": null,
            "min_width": null,
            "object_fit": null,
            "object_position": null,
            "order": null,
            "overflow": null,
            "overflow_x": null,
            "overflow_y": null,
            "padding": null,
            "right": null,
            "top": null,
            "visibility": null,
            "width": null
          }
        },
        "802f1640b3f44949a258d380ab67a72a": {
          "model_module": "@jupyter-widgets/controls",
          "model_name": "ProgressStyleModel",
          "model_module_version": "1.5.0",
          "state": {
            "_model_module": "@jupyter-widgets/controls",
            "_model_module_version": "1.5.0",
            "_model_name": "ProgressStyleModel",
            "_view_count": null,
            "_view_module": "@jupyter-widgets/base",
            "_view_module_version": "1.2.0",
            "_view_name": "StyleView",
            "bar_color": null,
            "description_width": ""
          }
        },
        "898ff39e82754f7989d1dae83be7dca3": {
          "model_module": "@jupyter-widgets/base",
          "model_name": "LayoutModel",
          "model_module_version": "1.2.0",
          "state": {
            "_model_module": "@jupyter-widgets/base",
            "_model_module_version": "1.2.0",
            "_model_name": "LayoutModel",
            "_view_count": null,
            "_view_module": "@jupyter-widgets/base",
            "_view_module_version": "1.2.0",
            "_view_name": "LayoutView",
            "align_content": null,
            "align_items": null,
            "align_self": null,
            "border": null,
            "bottom": null,
            "display": null,
            "flex": null,
            "flex_flow": null,
            "grid_area": null,
            "grid_auto_columns": null,
            "grid_auto_flow": null,
            "grid_auto_rows": null,
            "grid_column": null,
            "grid_gap": null,
            "grid_row": null,
            "grid_template_areas": null,
            "grid_template_columns": null,
            "grid_template_rows": null,
            "height": null,
            "justify_content": null,
            "justify_items": null,
            "left": null,
            "margin": null,
            "max_height": null,
            "max_width": null,
            "min_height": null,
            "min_width": null,
            "object_fit": null,
            "object_position": null,
            "order": null,
            "overflow": null,
            "overflow_x": null,
            "overflow_y": null,
            "padding": null,
            "right": null,
            "top": null,
            "visibility": null,
            "width": null
          }
        },
        "1dc049a6805c414fae63d08934f0fe47": {
          "model_module": "@jupyter-widgets/controls",
          "model_name": "DescriptionStyleModel",
          "model_module_version": "1.5.0",
          "state": {
            "_model_module": "@jupyter-widgets/controls",
            "_model_module_version": "1.5.0",
            "_model_name": "DescriptionStyleModel",
            "_view_count": null,
            "_view_module": "@jupyter-widgets/base",
            "_view_module_version": "1.2.0",
            "_view_name": "StyleView",
            "description_width": ""
          }
        }
      }
    }
  },
  "cells": [
    {
      "cell_type": "markdown",
      "metadata": {
        "id": "view-in-github",
        "colab_type": "text"
      },
      "source": [
        "<a href=\"https://colab.research.google.com/github/erikapaceep/NLP/blob/main/sentence_vec.ipynb\" target=\"_parent\"><img src=\"https://colab.research.google.com/assets/colab-badge.svg\" alt=\"Open In Colab\"/></a>"
      ]
    },
    {
      "cell_type": "markdown",
      "source": [
        "### Sentence Vec"
      ],
      "metadata": {
        "id": "5hgWZ9ycB0kW"
      }
    },
    {
      "cell_type": "code",
      "execution_count": 43,
      "metadata": {
        "id": "4H4Fkx3-Bwig"
      },
      "outputs": [],
      "source": [
        "text = 'hello word what a great time to be alive'"
      ]
    },
    {
      "cell_type": "code",
      "source": [
        "!pip install transformers"
      ],
      "metadata": {
        "id": "q4aHH6qmB82d"
      },
      "execution_count": null,
      "outputs": []
    },
    {
      "cell_type": "code",
      "source": [
        "!pip install torch"
      ],
      "metadata": {
        "colab": {
          "base_uri": "https://localhost:8080/"
        },
        "id": "bQs8koBdCTTd",
        "outputId": "b0e7cd16-04e2-43d0-a495-b3aea90b3bd6"
      },
      "execution_count": 4,
      "outputs": [
        {
          "output_type": "stream",
          "name": "stdout",
          "text": [
            "Looking in indexes: https://pypi.org/simple, https://us-python.pkg.dev/colab-wheels/public/simple/\n",
            "Requirement already satisfied: torch in /usr/local/lib/python3.8/dist-packages (1.13.0+cu116)\n",
            "Requirement already satisfied: typing-extensions in /usr/local/lib/python3.8/dist-packages (from torch) (4.4.0)\n"
          ]
        }
      ]
    },
    {
      "cell_type": "code",
      "source": [
        "from transformers import AutoTokenizer, AutoModel \n",
        "import torch"
      ],
      "metadata": {
        "id": "dfEVF3CXCCj8"
      },
      "execution_count": 5,
      "outputs": []
    },
    {
      "cell_type": "code",
      "source": [
        "# initalize the model and the tokenizer\n",
        "model_name = 'sentence-transformers/bert-base-nli-mean-tokens'"
      ],
      "metadata": {
        "id": "oQIJmu6HCbiU"
      },
      "execution_count": 6,
      "outputs": []
    },
    {
      "cell_type": "code",
      "source": [
        "# initialize our tokenizer model\n",
        "tokenizer = AutoTokenizer.from_pretrained(model_name)\n",
        "model = AutoModel.from_pretrained(model_name)"
      ],
      "metadata": {
        "colab": {
          "base_uri": "https://localhost:8080/",
          "height": 49,
          "referenced_widgets": [
            "9753e07fe2654d339c7206fcc1bb9d66",
            "468a024d95984eff94bf8b45a86ff1b9",
            "23e3d78eb03249db99a414240041a0b2",
            "d0ac0d31a947441ebe1bf54431384389",
            "821f2b4a7a40489ea915af23fb3baacc",
            "b650edab70bc4f768ae80667cb3664a8",
            "f7db6f7cf5ee4023b28431c805d7e532",
            "9d50f1e4027b4dc49cc41f7a0535137a",
            "802f1640b3f44949a258d380ab67a72a",
            "898ff39e82754f7989d1dae83be7dca3",
            "1dc049a6805c414fae63d08934f0fe47"
          ]
        },
        "id": "_FHQ1S8WDeJl",
        "outputId": "8e957756-2975-493f-e5e3-776e43f72ec6"
      },
      "execution_count": 8,
      "outputs": [
        {
          "output_type": "display_data",
          "data": {
            "text/plain": [
              "Downloading:   0%|          | 0.00/438M [00:00<?, ?B/s]"
            ],
            "application/vnd.jupyter.widget-view+json": {
              "version_major": 2,
              "version_minor": 0,
              "model_id": "9753e07fe2654d339c7206fcc1bb9d66"
            }
          },
          "metadata": {}
        }
      ]
    },
    {
      "cell_type": "code",
      "source": [
        "# tokenize our text using our tokenizer\n",
        "tokens = tokenizer.encode_plus(text, max_length=128,\n",
        "                               truncation=True,\n",
        "                               padding='max_length',\n",
        "                               return_tensors='pt')"
      ],
      "metadata": {
        "id": "S-txZWcWD-QF"
      },
      "execution_count": 44,
      "outputs": []
    },
    {
      "cell_type": "code",
      "source": [
        "tokens"
      ],
      "metadata": {
        "colab": {
          "base_uri": "https://localhost:8080/"
        },
        "id": "s3RnYkN8JFWi",
        "outputId": "63e8653a-7e26-4210-cfe9-e9232a7dec1c"
      },
      "execution_count": 42,
      "outputs": [
        {
          "output_type": "execute_result",
          "data": {
            "text/plain": [
              "{'input_ids': tensor([[ 101, 7592, 2773, 2054, 1037, 2307, 2051, 2000, 2022, 4142, 1010, 7632,\n",
              "          102,    0,    0,    0,    0,    0,    0,    0,    0,    0,    0,    0,\n",
              "            0,    0,    0,    0,    0,    0,    0,    0,    0,    0,    0,    0,\n",
              "            0,    0,    0,    0,    0,    0,    0,    0,    0,    0,    0,    0,\n",
              "            0,    0,    0,    0,    0,    0,    0,    0,    0,    0,    0,    0,\n",
              "            0,    0,    0,    0,    0,    0,    0,    0,    0,    0,    0,    0,\n",
              "            0,    0,    0,    0,    0,    0,    0,    0,    0,    0,    0,    0,\n",
              "            0,    0,    0,    0,    0,    0,    0,    0,    0,    0,    0,    0,\n",
              "            0,    0,    0,    0,    0,    0,    0,    0,    0,    0,    0,    0,\n",
              "            0,    0,    0,    0,    0,    0,    0,    0,    0,    0,    0,    0,\n",
              "            0,    0,    0,    0,    0,    0,    0,    0]]), 'token_type_ids': tensor([[0, 0, 0, 0, 0, 0, 0, 0, 0, 0, 0, 0, 0, 0, 0, 0, 0, 0, 0, 0, 0, 0, 0, 0,\n",
              "         0, 0, 0, 0, 0, 0, 0, 0, 0, 0, 0, 0, 0, 0, 0, 0, 0, 0, 0, 0, 0, 0, 0, 0,\n",
              "         0, 0, 0, 0, 0, 0, 0, 0, 0, 0, 0, 0, 0, 0, 0, 0, 0, 0, 0, 0, 0, 0, 0, 0,\n",
              "         0, 0, 0, 0, 0, 0, 0, 0, 0, 0, 0, 0, 0, 0, 0, 0, 0, 0, 0, 0, 0, 0, 0, 0,\n",
              "         0, 0, 0, 0, 0, 0, 0, 0, 0, 0, 0, 0, 0, 0, 0, 0, 0, 0, 0, 0, 0, 0, 0, 0,\n",
              "         0, 0, 0, 0, 0, 0, 0, 0]]), 'attention_mask': tensor([[1, 1, 1, 1, 1, 1, 1, 1, 1, 1, 1, 1, 1, 0, 0, 0, 0, 0, 0, 0, 0, 0, 0, 0,\n",
              "         0, 0, 0, 0, 0, 0, 0, 0, 0, 0, 0, 0, 0, 0, 0, 0, 0, 0, 0, 0, 0, 0, 0, 0,\n",
              "         0, 0, 0, 0, 0, 0, 0, 0, 0, 0, 0, 0, 0, 0, 0, 0, 0, 0, 0, 0, 0, 0, 0, 0,\n",
              "         0, 0, 0, 0, 0, 0, 0, 0, 0, 0, 0, 0, 0, 0, 0, 0, 0, 0, 0, 0, 0, 0, 0, 0,\n",
              "         0, 0, 0, 0, 0, 0, 0, 0, 0, 0, 0, 0, 0, 0, 0, 0, 0, 0, 0, 0, 0, 0, 0, 0,\n",
              "         0, 0, 0, 0, 0, 0, 0, 0]])}"
            ]
          },
          "metadata": {},
          "execution_count": 42
        }
      ]
    },
    {
      "cell_type": "code",
      "source": [
        "# now that the input are tokenized we can pass it through our model\n",
        "output = model(**tokens)"
      ],
      "metadata": {
        "id": "GVhXnhcgEqAq"
      },
      "execution_count": 13,
      "outputs": []
    },
    {
      "cell_type": "code",
      "source": [
        "output\n",
        "# Extracting the last hidden state: the model output  and inside that we have this tensor called the last hidden state"
      ],
      "metadata": {
        "id": "AqqB8DPaE1_Q"
      },
      "execution_count": null,
      "outputs": []
    },
    {
      "cell_type": "code",
      "source": [
        "# this is the last hidden state\n",
        "output[0]"
      ],
      "metadata": {
        "id": "swLCVHo9FVmN"
      },
      "execution_count": null,
      "outputs": []
    },
    {
      "cell_type": "code",
      "source": [
        "# this is also the last hidden state\n",
        "embeddings = output.last_hidden_state\n",
        "embeddings"
      ],
      "metadata": {
        "colab": {
          "base_uri": "https://localhost:8080/"
        },
        "id": "RDza7WwFFmy8",
        "outputId": "ce103a4c-37a8-44f9-c1c3-1ee7f02db805"
      },
      "execution_count": 18,
      "outputs": [
        {
          "output_type": "execute_result",
          "data": {
            "text/plain": [
              "tensor([[[ 0.1143, -0.2471,  1.6116,  ...,  0.4679, -0.2416,  0.0699],\n",
              "         [ 0.6115,  0.1260,  1.6738,  ...,  0.5420, -0.0708,  0.0985],\n",
              "         [ 0.4344, -0.0689,  1.4304,  ...,  0.3937, -0.1738, -0.1908],\n",
              "         ...,\n",
              "         [ 0.3213, -0.0943,  1.1681,  ...,  0.3382, -0.3864,  0.0301],\n",
              "         [ 0.2114, -0.1746,  1.1498,  ...,  0.3368, -0.4444, -0.0992],\n",
              "         [ 0.2228, -0.2167,  1.2706,  ...,  0.3394, -0.4571, -0.1503]]],\n",
              "       grad_fn=<NativeLayerNormBackward0>)"
            ]
          },
          "metadata": {},
          "execution_count": 18
        }
      ]
    },
    {
      "cell_type": "code",
      "source": [
        "embeddings.shape"
      ],
      "metadata": {
        "colab": {
          "base_uri": "https://localhost:8080/"
        },
        "id": "IM6JDtH4F5na",
        "outputId": "24378a40-494d-4f89-ec77-710403985286"
      },
      "execution_count": 20,
      "outputs": [
        {
          "output_type": "execute_result",
          "data": {
            "text/plain": [
              "torch.Size([1, 128, 768])"
            ]
          },
          "metadata": {},
          "execution_count": 20
        }
      ]
    },
    {
      "cell_type": "markdown",
      "source": [
        "Now we need to perform a mean pooling operation in order to create a single vector encoding and convert these form the current embedddings to sentence embedding all vector"
      ],
      "metadata": {
        "id": "FSAiLeEpGCc4"
      }
    },
    {
      "cell_type": "code",
      "source": [
        "# convert the embeddings from BERT into sentence vectors using a mean pooling operation:\n",
        "# to do this we need to multiply our embedding tensor by the attention mask value so that we ignore the non teal token (that correspond to 0 the attention mask tensor)\n",
        "\n",
        "attention_mask = tokens['attention_mask']\n",
        "attention_mask.shape # we have one value for each one of our input"
      ],
      "metadata": {
        "colab": {
          "base_uri": "https://localhost:8080/"
        },
        "id": "lVHW_e5ZGojD",
        "outputId": "d768a895-2610-442f-86f8-1a765040e0e9"
      },
      "execution_count": 22,
      "outputs": [
        {
          "output_type": "execute_result",
          "data": {
            "text/plain": [
              "torch.Size([1, 128])"
            ]
          },
          "metadata": {},
          "execution_count": 22
        }
      ]
    },
    {
      "cell_type": "code",
      "source": [
        "#we want an attention mask to be the same size as the embedding shape\n",
        "mask = attention_mask.unsqueeze(-1).expand(embeddings.shape).float()"
      ],
      "metadata": {
        "id": "ylJ73VVlJbd9"
      },
      "execution_count": 30,
      "outputs": []
    },
    {
      "cell_type": "code",
      "source": [
        "# Now that attention mask is the right shape we jsut need to multiply the embedding by the attention mask\n",
        "masked_embeddings = embeddings * mask\n",
        "masked_embeddings[0]"
      ],
      "metadata": {
        "colab": {
          "base_uri": "https://localhost:8080/"
        },
        "id": "U3fIfdjzKGmq",
        "outputId": "451c4f44-9b08-46f3-e810-04827d2c3a39"
      },
      "execution_count": 39,
      "outputs": [
        {
          "output_type": "execute_result",
          "data": {
            "text/plain": [
              "tensor([[ 0.1143, -0.2471,  1.6116,  ...,  0.4679, -0.2416,  0.0699],\n",
              "        [ 0.6115,  0.1260,  1.6738,  ...,  0.5420, -0.0708,  0.0985],\n",
              "        [ 0.4344, -0.0689,  1.4304,  ...,  0.3937, -0.1738, -0.1908],\n",
              "        ...,\n",
              "        [ 0.0000, -0.0000,  0.0000,  ...,  0.0000, -0.0000,  0.0000],\n",
              "        [ 0.0000, -0.0000,  0.0000,  ...,  0.0000, -0.0000, -0.0000],\n",
              "        [ 0.0000, -0.0000,  0.0000,  ...,  0.0000, -0.0000, -0.0000]],\n",
              "       grad_fn=<SelectBackward0>)"
            ]
          },
          "metadata": {},
          "execution_count": 39
        }
      ]
    },
    {
      "cell_type": "code",
      "source": [
        "# if we compare this wtih respect to what embeddings was before - the masked embeddings maked the last values \n",
        "embeddings"
      ],
      "metadata": {
        "colab": {
          "base_uri": "https://localhost:8080/"
        },
        "id": "TD9Nf_r_LAa0",
        "outputId": "b09a73e7-06c8-488a-b7f1-624ce9f6b6d1"
      },
      "execution_count": 38,
      "outputs": [
        {
          "output_type": "execute_result",
          "data": {
            "text/plain": [
              "tensor([[[ 0.1143, -0.2471,  1.6116,  ...,  0.4679, -0.2416,  0.0699],\n",
              "         [ 0.6115,  0.1260,  1.6738,  ...,  0.5420, -0.0708,  0.0985],\n",
              "         [ 0.4344, -0.0689,  1.4304,  ...,  0.3937, -0.1738, -0.1908],\n",
              "         ...,\n",
              "         [ 0.3213, -0.0943,  1.1681,  ...,  0.3382, -0.3864,  0.0301],\n",
              "         [ 0.2114, -0.1746,  1.1498,  ...,  0.3368, -0.4444, -0.0992],\n",
              "         [ 0.2228, -0.2167,  1.2706,  ...,  0.3394, -0.4571, -0.1503]]],\n",
              "       grad_fn=<NativeLayerNormBackward0>)"
            ]
          },
          "metadata": {},
          "execution_count": 38
        }
      ]
    },
    {
      "cell_type": "code",
      "source": [
        "# now we need to sum the embeddings\n",
        "summed = torch.sum(masked_embeddings, 1)\n",
        "summed.shape"
      ],
      "metadata": {
        "colab": {
          "base_uri": "https://localhost:8080/"
        },
        "id": "Ote6u_ASMbRx",
        "outputId": "ef477d47-b8ea-4f02-bb9b-89915ccad050"
      },
      "execution_count": 46,
      "outputs": [
        {
          "output_type": "execute_result",
          "data": {
            "text/plain": [
              "torch.Size([1, 768])"
            ]
          },
          "metadata": {},
          "execution_count": 46
        }
      ]
    },
    {
      "cell_type": "code",
      "source": [
        "counts = torch.clamp(mask.sum(1), min=1e-9)\n",
        "counts.shape"
      ],
      "metadata": {
        "colab": {
          "base_uri": "https://localhost:8080/"
        },
        "id": "9pptyv5wNDoK",
        "outputId": "9f179038-f573-4267-c549-940979cca1dd"
      },
      "execution_count": 55,
      "outputs": [
        {
          "output_type": "execute_result",
          "data": {
            "text/plain": [
              "torch.Size([1, 768])"
            ]
          },
          "metadata": {},
          "execution_count": 55
        }
      ]
    },
    {
      "cell_type": "code",
      "source": [
        "meaned = torch.mean(masked_embeddings, 1)\n",
        "meaned"
      ],
      "metadata": {
        "id": "tqzTbkR1Mogn"
      },
      "execution_count": null,
      "outputs": []
    },
    {
      "cell_type": "code",
      "source": [
        "# this is our sentence vector\n",
        "mean_pooles = summed/counts\n",
        "mean_pooles"
      ],
      "metadata": {
        "colab": {
          "base_uri": "https://localhost:8080/"
        },
        "id": "I9ivFck5Nlv3",
        "outputId": "9ffc5643-a4e9-4e20-bac6-017b4a52774e"
      },
      "execution_count": 58,
      "outputs": [
        {
          "output_type": "execute_result",
          "data": {
            "text/plain": [
              "tensor([[ 4.5706e-01, -1.3274e-01,  1.5678e+00,  9.7545e-02,  1.0961e-01,\n",
              "         -4.5339e-01, -4.4104e-01,  7.1403e-01,  4.2600e-01, -8.5828e-01,\n",
              "         -1.2381e-01, -3.5462e-02,  3.2522e-01,  1.0569e-01,  3.1507e-01,\n",
              "          2.5949e-01, -4.4319e-01, -8.2659e-01,  3.9691e-01, -9.9923e-01,\n",
              "         -5.7139e-01, -5.8446e-01, -3.6041e-01, -6.3283e-01,  5.3884e-01,\n",
              "         -6.4072e-01,  1.6995e-02, -8.8052e-01, -2.6783e-01,  3.1300e-01,\n",
              "         -4.7900e-01,  2.2191e-01,  8.6288e-01, -7.6205e-01,  5.7911e-02,\n",
              "          1.5526e+00, -1.5126e-01, -8.1886e-02, -1.6821e-01, -1.1182e-01,\n",
              "          1.1469e+00, -4.6340e-01,  9.2029e-01,  1.7389e-01, -1.2793e+00,\n",
              "          9.6926e-02, -6.6143e-01,  2.6481e-01,  5.9966e-01, -8.8305e-01,\n",
              "          3.3510e-01, -7.8292e-01, -8.6958e-01,  2.7097e-02, -7.1468e-01,\n",
              "          4.0136e-01,  2.2119e-01, -6.1775e-01,  1.7207e-01,  2.2425e-01,\n",
              "          6.8732e-01, -4.4249e-01,  5.0432e-01,  4.2942e-01, -9.7778e-01,\n",
              "          5.5970e-01,  1.1844e+00, -2.8800e-01,  6.0063e-02,  3.8173e-01,\n",
              "          9.2238e-01,  6.7926e-02, -3.4827e-02,  2.5114e-01, -1.2792e+00,\n",
              "         -3.7474e-01,  1.8672e-01,  1.0235e-01,  2.7793e-01,  1.3045e+00,\n",
              "          7.3115e-01, -5.1786e-01,  9.0176e-01,  1.0125e+00, -5.9067e-01,\n",
              "          2.8874e-01,  2.9556e-01, -6.0197e-02, -2.0718e+00,  4.2385e-01,\n",
              "          1.8682e-01, -5.8286e-01,  1.4698e+00, -4.8174e-01,  2.6061e-01,\n",
              "          8.2960e-01, -1.5451e-01, -6.0979e-01, -4.8052e-01, -3.1358e-01,\n",
              "          3.7798e-01, -1.4360e-01, -2.1613e-01,  2.8822e-02,  9.8085e-02,\n",
              "          7.8041e-01,  2.1065e-03, -1.3532e+00,  6.9689e-01,  1.2500e-02,\n",
              "          7.6748e-01,  5.9882e-02,  1.5545e-01,  6.4064e-01,  1.1770e-02,\n",
              "         -1.2371e-01, -1.8445e+00,  3.0255e-01,  4.8704e-02,  3.5342e-01,\n",
              "         -6.9660e-01,  8.4246e-01, -8.4341e-02, -3.5999e-01,  8.1517e-02,\n",
              "         -7.4511e-01, -2.6060e-01,  3.6872e-01, -2.3569e-01, -1.5489e-01,\n",
              "          7.0090e-02,  6.1087e-01,  7.1286e-01, -4.2943e-01,  1.1123e-01,\n",
              "          7.3265e-01, -3.4407e-01, -7.1766e-01, -8.5992e-01, -6.1655e-02,\n",
              "         -8.9266e-01,  4.7978e-01,  8.3070e-01,  5.1473e-01,  1.5565e-01,\n",
              "         -7.1661e-01,  5.5991e-01, -3.3398e-02,  1.5627e-01, -1.6637e-01,\n",
              "         -7.1126e-01, -3.0474e-01, -8.5223e-01, -5.5282e-01, -1.8433e-01,\n",
              "          5.6482e-02, -1.4353e+00,  3.5475e-01,  2.1680e-02,  2.7376e-01,\n",
              "         -2.7522e-02,  1.3508e+00, -4.5374e-01,  7.2827e-02, -4.2252e-02,\n",
              "          1.2060e-01,  8.6152e-01,  9.5542e-01,  1.1455e-01,  6.8688e-01,\n",
              "          8.5151e-01, -2.5191e-01,  2.4869e-01,  6.7925e-01, -7.0237e-01,\n",
              "         -3.3790e-01,  1.4366e+00,  1.3394e-01,  3.0028e-01, -4.9958e-01,\n",
              "          7.9250e-01, -6.3572e-01,  4.9843e-01,  9.5193e-03,  5.0979e-01,\n",
              "         -1.2259e+00,  4.0841e-02,  7.0750e-03,  8.9605e-01,  1.7216e-01,\n",
              "          4.3297e-01, -3.5089e-01, -6.6453e-01, -1.3369e+00, -2.4384e-01,\n",
              "          1.6555e-01,  3.3207e-01,  1.0197e+00, -2.6985e-01, -4.5844e-01,\n",
              "          7.0068e-01, -1.4285e-01,  7.0827e-01, -1.4375e-02,  8.9379e-01,\n",
              "          6.9762e-01,  2.2629e-01, -7.4169e-03, -5.2552e-01, -2.4138e-01,\n",
              "         -2.4305e-02,  1.1453e+00,  7.5933e-01, -1.7574e-01, -2.2561e-01,\n",
              "         -3.0763e-01,  7.0409e-01, -2.7488e-01, -9.3356e-01, -5.5510e-01,\n",
              "          4.1499e-01,  5.5557e-01, -1.7245e-01,  4.7015e-02,  3.6064e-01,\n",
              "          6.4099e-01,  6.1055e-01, -1.0263e+00, -8.0451e-01, -7.7105e-01,\n",
              "         -7.9005e-02, -3.7965e-01,  2.2193e-01,  9.6866e-01,  6.6718e-01,\n",
              "          7.1319e-01,  1.3558e-01,  6.4067e-02,  1.1851e+00,  2.8998e-01,\n",
              "          2.0962e-01,  6.0465e-01, -1.3379e-01, -5.5957e-01, -1.3698e+00,\n",
              "         -1.3513e-01,  8.7379e-01,  4.0857e-03, -7.6371e-01,  5.0290e-01,\n",
              "         -1.0889e-01, -7.1519e-01, -6.4785e-01,  8.4637e-02,  1.8388e-01,\n",
              "         -4.1777e-01, -1.5164e+00, -7.0469e-01, -3.0425e-01, -6.3386e-02,\n",
              "         -2.2815e-02, -4.2454e-01, -3.9924e-01, -3.0849e-01, -6.2851e-01,\n",
              "         -1.6278e-01, -7.9603e-02, -3.9647e-01,  1.3115e-01,  4.8566e-01,\n",
              "         -4.3160e-01,  9.6129e-01, -2.1201e-01,  3.7776e-01,  6.3946e-01,\n",
              "         -6.1492e-02,  1.0424e+00, -2.0197e-01, -3.5887e-01, -3.2498e-01,\n",
              "         -1.5192e-01, -1.1317e-01, -2.5457e+00, -5.0292e-01,  2.0182e-01,\n",
              "         -3.7620e-01,  4.5170e-01, -4.7823e-01, -4.9483e-01, -8.7307e-01,\n",
              "         -5.7139e-01, -6.5570e-01,  8.0228e-02, -1.3835e+00,  1.5181e+00,\n",
              "          8.6569e-03,  1.7061e+00, -8.2335e-01, -1.1973e+00,  4.0889e-01,\n",
              "         -5.3760e-01,  1.5710e-01, -4.3539e-01, -3.5356e-01,  1.5200e-01,\n",
              "          5.2998e-02,  2.0402e-01, -3.0744e-01,  9.3932e-02, -3.1208e-01,\n",
              "         -1.0128e+00,  2.3839e-01, -1.5433e+00,  5.0255e-01, -1.0499e-01,\n",
              "          9.2932e-02, -1.1697e+00,  7.0085e-01, -9.6726e-03,  3.8148e-02,\n",
              "         -3.3156e-01,  3.6080e-01,  1.0905e-01,  5.0439e-01,  3.9216e-01,\n",
              "          5.6530e-01, -4.9978e-01,  3.9217e-01, -3.8160e-01, -1.7694e-01,\n",
              "          1.7495e-01,  4.1151e-02,  7.4805e-01,  4.6857e-02, -2.2030e-01,\n",
              "          1.1060e+00, -1.2215e+00, -6.1684e-01,  2.5090e-01,  6.5509e-01,\n",
              "          1.0758e+00,  8.6650e-02,  1.0161e+00,  1.2868e-01,  1.5337e+00,\n",
              "         -4.0180e-01, -3.3002e-01, -1.0663e+00, -1.1193e-02,  5.4410e-02,\n",
              "         -1.6879e-01, -6.8321e-01, -1.5197e-01, -5.3524e-01, -5.9565e-01,\n",
              "          7.6461e-01,  5.7503e-01, -3.9429e-01,  9.9826e-02,  1.6859e-01,\n",
              "         -2.0934e-01,  8.2484e-01, -2.7448e-01, -1.3466e-01, -6.2386e-02,\n",
              "         -1.1137e-01,  1.0573e-01, -6.8142e-01,  1.0196e+00, -2.0932e-01,\n",
              "          3.0359e-01, -3.4903e-01,  4.2300e-02,  5.3809e-01, -1.8715e-01,\n",
              "         -9.1178e-02, -9.2036e-02, -6.8678e-01,  6.7176e-01,  4.2022e-01,\n",
              "          9.5534e-01, -3.2678e-01,  4.4867e-02, -4.7307e-01,  1.1539e-02,\n",
              "          4.9045e-01, -1.4626e-01, -6.5818e-01,  7.6898e-01, -8.4154e-01,\n",
              "         -2.1214e-01,  5.3380e-01,  1.1885e+00,  1.6101e-01,  3.4253e-01,\n",
              "         -1.7720e+00,  5.8137e-01,  5.6290e-01,  8.1554e-02,  5.1044e-02,\n",
              "          3.1140e-01,  6.8288e-01,  6.5546e-01, -9.8619e-01,  5.3208e-02,\n",
              "         -2.8228e-02,  6.5130e-01, -1.4225e-01, -5.8403e-01,  6.1042e-01,\n",
              "         -7.7938e-02,  2.1327e-01,  8.7018e-01,  7.8908e-01, -5.5960e-01,\n",
              "          6.7475e-01,  6.1909e-01, -1.1557e+00,  2.6223e-01,  8.3149e-01,\n",
              "         -9.1363e-01,  7.4949e-01, -7.0774e-02, -5.4736e-01, -1.6786e-01,\n",
              "         -3.4009e-01,  5.4465e-01,  2.2509e-02, -4.0551e-01, -1.1297e+00,\n",
              "          4.2769e-02,  9.0525e-01, -1.1368e+00,  1.0374e-01,  6.4975e-01,\n",
              "         -6.1345e-01,  2.2824e-01, -1.6717e+00,  2.6913e-01,  2.3633e-01,\n",
              "          8.2395e-01,  4.7425e-01, -3.0716e-01,  4.1487e-01, -3.1957e-01,\n",
              "         -1.0508e+00,  7.8484e-02,  5.7201e-01, -1.4954e-01,  1.9597e-02,\n",
              "          3.2345e-01, -8.4971e-02,  5.4789e-02,  4.4268e-01,  1.0794e-01,\n",
              "          3.8512e-01, -8.8887e-01,  6.4052e-01,  7.3044e-01, -2.4757e-01,\n",
              "         -7.0721e-01, -6.2770e-01,  3.3396e-01,  5.0199e-02,  3.5445e-01,\n",
              "         -7.0043e-02, -8.3328e-02,  6.8068e-02,  7.0410e-01, -1.5780e-01,\n",
              "          8.8911e-01,  5.6613e-02, -7.0955e-02, -1.6948e-02,  6.7913e-01,\n",
              "          9.4550e-01, -2.0144e+00,  9.9410e-01,  5.1184e-01,  1.8009e+00,\n",
              "         -3.2033e-01,  5.4701e-03, -6.1458e-01, -1.0536e+00, -7.5166e-01,\n",
              "          1.2120e+00,  2.8679e-01,  3.6299e-03,  1.3043e+00, -1.7587e-01,\n",
              "         -5.8418e-01, -8.8856e-01,  1.0131e-02, -1.1858e+00, -2.6084e-01,\n",
              "         -6.9849e-01, -4.8393e-01, -1.3905e-01,  2.0820e-01,  1.1648e-02,\n",
              "         -1.0470e-01, -1.4107e-01,  1.2317e-01, -1.1097e+00,  3.4489e-01,\n",
              "         -5.3295e-03,  3.9267e-02,  2.5907e-01,  2.1890e-02,  6.2095e-01,\n",
              "         -1.0532e+00,  7.4935e-02,  4.7743e-01, -8.5360e-02, -6.5361e-01,\n",
              "         -5.6193e-01, -3.1110e-01,  1.7394e-01, -1.1691e-01, -4.7245e-01,\n",
              "         -1.1204e-01, -1.5075e-01,  2.1665e-01, -5.8636e-02, -1.0440e+00,\n",
              "          7.0019e-01,  1.1456e+00, -8.4971e-01, -2.5397e-01, -5.2699e-01,\n",
              "         -3.4514e-01, -4.5470e-01, -1.4424e-01, -2.3264e-01, -3.7245e-01,\n",
              "          1.2813e+00, -1.4906e+00, -1.0525e+00, -1.0551e-01,  2.4512e-01,\n",
              "          6.4845e-01,  6.1632e-02, -8.3780e-01, -2.8356e-01, -6.5103e-01,\n",
              "         -3.2590e-01, -7.9047e-03, -2.2554e-01,  1.4600e-01, -3.9044e-01,\n",
              "         -5.6805e-01, -4.7694e-01, -1.7423e-01, -2.7087e-01, -1.3979e+00,\n",
              "          5.8415e-01, -4.7737e-01,  5.1249e-01,  1.1951e-01, -1.7598e-01,\n",
              "          1.9114e-02, -4.7314e-02, -9.3148e-01,  2.6740e-01, -3.3512e-01,\n",
              "         -1.1192e-01, -3.4301e-01, -3.3507e-01,  6.9904e-01,  7.5930e-01,\n",
              "         -6.1256e-01, -1.8023e-01,  2.9463e-01,  4.3101e-01, -7.5903e-01,\n",
              "         -2.1966e-02,  3.9431e-01, -4.8752e-01, -1.3378e+00,  2.7159e-01,\n",
              "         -1.2752e+00,  6.1805e-01,  7.9611e-01, -1.0466e-01, -1.5224e-01,\n",
              "          2.2079e-01,  1.1460e-01, -7.3021e-01, -1.5115e-01,  1.1453e-01,\n",
              "          2.3840e-01, -6.0892e-01, -1.3719e-01, -5.7700e-01, -8.1098e-01,\n",
              "         -1.6417e-01,  6.8320e-01,  1.1048e+00,  5.9700e-01,  7.5856e-01,\n",
              "         -4.8168e-01, -5.0528e-01, -6.0021e-01,  4.6846e-01, -1.4559e-01,\n",
              "          4.3642e-01, -3.1943e-01, -8.1696e-01,  3.9166e-01,  7.2022e-01,\n",
              "          1.8866e-01, -1.5745e+00, -2.3101e-01, -3.8351e-01, -7.5053e-03,\n",
              "         -8.3328e-01, -8.0980e-01, -1.2960e-01,  4.8156e-01,  3.0835e-01,\n",
              "          1.2024e-01,  7.5757e-01, -6.1572e-01, -6.0575e-01,  1.6968e-01,\n",
              "         -6.4088e-01, -2.9813e-01,  5.0643e-01,  8.4574e-01, -7.3685e-01,\n",
              "          8.0020e-01, -8.5548e-02,  3.0000e-02, -1.7635e-01,  3.4443e-01,\n",
              "          4.7580e-01, -4.9416e-01,  1.0152e+00,  7.1494e-01,  3.5506e-01,\n",
              "         -5.2092e-01, -2.7604e-01,  4.4228e-01, -3.4459e-01, -2.2328e-01,\n",
              "          4.5923e-01, -3.7462e-02,  1.0697e+00,  8.2035e-01,  6.8166e-01,\n",
              "          5.6416e-01, -1.5558e-01,  1.5661e-01, -1.3554e-01, -5.8533e-01,\n",
              "         -5.0066e-01, -2.5696e-01, -6.3886e-01,  7.5176e-01, -2.7055e-01,\n",
              "          4.0175e-01,  3.3983e-02,  9.2097e-02, -3.7087e-01,  4.5609e-01,\n",
              "         -3.3229e-01, -1.8339e-01,  6.1669e-01, -8.7335e-02, -1.8814e-01,\n",
              "          1.1237e+00, -3.8476e-01,  9.2921e-03, -1.9191e+00, -6.9258e-01,\n",
              "         -3.1943e-02,  5.1359e-01,  8.5967e-01, -5.0659e-01,  6.3183e-02,\n",
              "          6.4416e-01, -3.0359e-01,  5.8963e-01, -8.3700e-02, -1.0199e+00,\n",
              "         -7.0801e-03,  1.8453e-01, -5.9564e-01,  2.1258e-01,  7.6794e-01,\n",
              "          9.3847e-02,  6.6998e-01, -1.3827e-01, -1.1565e+00, -1.1429e-01,\n",
              "          6.6048e-01,  1.3476e-01, -2.5701e-01,  1.1676e+00, -6.9790e-02,\n",
              "          1.1137e-01,  7.9716e-01, -3.4289e-01, -8.5859e-01, -2.4169e-01,\n",
              "         -2.5685e-01, -1.1994e+00,  3.8615e-01, -8.4775e-02,  5.6314e-01,\n",
              "          4.4809e-01,  1.0969e-01,  5.6801e-01,  2.0568e-01, -1.4963e-01,\n",
              "          1.1629e+00,  6.3492e-01, -3.0746e-02,  4.0033e-01, -3.5973e-02,\n",
              "         -9.0580e-01,  2.8884e-01, -2.7656e-01,  1.4447e-01, -2.4611e-02,\n",
              "          4.2584e-02,  1.7545e-01, -1.7526e-01, -6.1443e-01, -6.8759e-01,\n",
              "          4.5132e-01, -1.6890e-01, -4.5818e-01,  2.6324e-01,  1.0382e-01,\n",
              "         -4.4828e-02,  3.8903e-03, -5.2254e-01, -5.6786e-02,  5.8432e-01,\n",
              "         -3.5539e-01, -4.3270e-01, -5.5791e-01, -1.1168e+00, -5.7550e-01,\n",
              "         -6.7498e-01, -1.8987e-02,  1.1758e-01, -1.1189e-01, -1.0941e-01,\n",
              "          1.2515e+00, -9.0740e-01, -6.4410e-01, -2.6672e-02,  1.6875e-02,\n",
              "          1.2148e+00, -4.7596e-01, -1.5532e-01, -2.1409e-01, -1.1462e+00,\n",
              "          7.6288e-01, -1.4380e+00,  7.7564e-02, -3.8377e-01, -1.8850e-01,\n",
              "          5.2847e-01, -2.5875e-01, -1.5828e-01]], grad_fn=<DivBackward0>)"
            ]
          },
          "metadata": {},
          "execution_count": 58
        }
      ]
    }
  ]
}