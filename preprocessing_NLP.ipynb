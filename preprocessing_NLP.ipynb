{
  "nbformat": 4,
  "nbformat_minor": 0,
  "metadata": {
    "colab": {
      "provenance": [],
      "authorship_tag": "ABX9TyPCNk/8dOduikBoW0UFyAi8",
      "include_colab_link": true
    },
    "kernelspec": {
      "name": "python3",
      "display_name": "Python 3"
    },
    "language_info": {
      "name": "python"
    }
  },
  "cells": [
    {
      "cell_type": "markdown",
      "metadata": {
        "id": "view-in-github",
        "colab_type": "text"
      },
      "source": [
        "<a href=\"https://colab.research.google.com/github/erikapaceep/NLP/blob/main/preprocessing_NLP.ipynb\" target=\"_parent\"><img src=\"https://colab.research.google.com/assets/colab-badge.svg\" alt=\"Open In Colab\"/></a>"
      ]
    },
    {
      "cell_type": "code",
      "execution_count": 13,
      "metadata": {
        "colab": {
          "base_uri": "https://localhost:8080/"
        },
        "id": "gzvYObv5PRh2",
        "outputId": "404eebf7-cec7-40a8-8444-34358a71c920"
      },
      "outputs": [
        {
          "output_type": "stream",
          "name": "stderr",
          "text": [
            "[nltk_data] Downloading package stopwords to /root/nltk_data...\n",
            "[nltk_data]   Package stopwords is already up-to-date!\n"
          ]
        }
      ],
      "source": [
        "import nltk\n",
        "nltk.download('stopwords')\n",
        "from nltk.corpus import stopwords"
      ]
    },
    {
      "cell_type": "code",
      "source": [
        "nltk.__version__"
      ],
      "metadata": {
        "colab": {
          "base_uri": "https://localhost:8080/",
          "height": 35
        },
        "id": "_xxfdGqQQH85",
        "outputId": "ee78b108-dec2-44ec-c0c1-7986460e3ae3"
      },
      "execution_count": 14,
      "outputs": [
        {
          "output_type": "execute_result",
          "data": {
            "text/plain": [
              "'3.7'"
            ],
            "application/vnd.google.colaboratory.intrinsic+json": {
              "type": "string"
            }
          },
          "metadata": {},
          "execution_count": 14
        }
      ]
    },
    {
      "cell_type": "code",
      "source": [
        "stop_words = stopwords.words(\"english\")\n",
        "print(stop_words[:10])"
      ],
      "metadata": {
        "colab": {
          "base_uri": "https://localhost:8080/"
        },
        "id": "OiJVBXgTPbv_",
        "outputId": "29e30a6e-7b34-4753-ba95-e38fdfe035f2"
      },
      "execution_count": 15,
      "outputs": [
        {
          "output_type": "stream",
          "name": "stdout",
          "text": [
            "['i', 'me', 'my', 'myself', 'we', 'our', 'ours', 'ourselves', 'you', \"you're\"]\n"
          ]
        }
      ]
    },
    {
      "cell_type": "code",
      "source": [
        "tweet = \"\"\"I'm amazed how often in practice, not only does a @huggingface NLP model solve your problem, but one of their public\"\"\""
      ],
      "metadata": {
        "id": "zd_jNjRwcF0C"
      },
      "execution_count": 19,
      "outputs": []
    },
    {
      "cell_type": "code",
      "source": [
        "tweet = tweet.lower().split()\n",
        "tweet_no_stop_words = [ word for word in tweet if word not in stop_words]\n",
        "tweet_no_stop_words"
      ],
      "metadata": {
        "colab": {
          "base_uri": "https://localhost:8080/"
        },
        "id": "QYNpmKsIcP-c",
        "outputId": "7d0957f3-c23e-4dbe-cba5-9bce6a64642c"
      },
      "execution_count": 21,
      "outputs": [
        {
          "output_type": "execute_result",
          "data": {
            "text/plain": [
              "[\"i'm\",\n",
              " 'amazed',\n",
              " 'often',\n",
              " 'practice,',\n",
              " '@huggingface',\n",
              " 'nlp',\n",
              " 'model',\n",
              " 'solve',\n",
              " 'problem,',\n",
              " 'one',\n",
              " 'public']"
            ]
          },
          "metadata": {},
          "execution_count": 21
        }
      ]
    },
    {
      "cell_type": "code",
      "source": [
        "print(' '.join(tweet))"
      ],
      "metadata": {
        "colab": {
          "base_uri": "https://localhost:8080/"
        },
        "id": "R7RTHna-d1G0",
        "outputId": "6155847c-1504-4b33-d9ea-32589a4d3d06"
      },
      "execution_count": 22,
      "outputs": [
        {
          "output_type": "stream",
          "name": "stdout",
          "text": [
            "i'm amazed how often in practice, not only does a @huggingface nlp model solve your problem, but one of their public\n"
          ]
        }
      ]
    },
    {
      "cell_type": "code",
      "source": [
        "print(' '.join(tweet_no_stop_words))"
      ],
      "metadata": {
        "id": "wtrJFJvNff2D",
        "outputId": "920855a9-ba4a-4a8b-e305-0c7e41b1e0f8",
        "colab": {
          "base_uri": "https://localhost:8080/"
        }
      },
      "execution_count": 24,
      "outputs": [
        {
          "output_type": "stream",
          "name": "stdout",
          "text": [
            "i'm amazed often practice, @huggingface nlp model solve problem, one public\n"
          ]
        }
      ]
    },
    {
      "cell_type": "code",
      "source": [
        "words = ['amaze','amazed','amazing']"
      ],
      "metadata": {
        "id": "iVCjgceVwxYi"
      },
      "execution_count": 25,
      "outputs": []
    },
    {
      "cell_type": "code",
      "source": [
        "import nltk\n",
        "nltk.download('omw-1.4')\n",
        "nltk.download('wordnet')"
      ],
      "metadata": {
        "id": "3WQ_OqgBw2uK",
        "outputId": "73adb4c5-cf84-4bf0-f08c-436b91491992",
        "colab": {
          "base_uri": "https://localhost:8080/"
        }
      },
      "execution_count": 30,
      "outputs": [
        {
          "output_type": "stream",
          "name": "stderr",
          "text": [
            "[nltk_data] Downloading package omw-1.4 to /root/nltk_data...\n",
            "[nltk_data] Downloading package wordnet to /root/nltk_data...\n",
            "[nltk_data]   Package wordnet is already up-to-date!\n"
          ]
        },
        {
          "output_type": "execute_result",
          "data": {
            "text/plain": [
              "True"
            ]
          },
          "metadata": {},
          "execution_count": 30
        }
      ]
    },
    {
      "cell_type": "code",
      "source": [
        "from nltk.stem import WordNetLemmatizer"
      ],
      "metadata": {
        "id": "F0yW-a9bw_qz"
      },
      "execution_count": 31,
      "outputs": []
    },
    {
      "cell_type": "markdown",
      "source": [
        "initialize the lemmatizer"
      ],
      "metadata": {
        "id": "t-5W5aMbxIXL"
      }
    },
    {
      "cell_type": "code",
      "source": [
        "lemmatizer = WordNetLemmatizer()"
      ],
      "metadata": {
        "id": "IjEMCMD6xNTE"
      },
      "execution_count": 32,
      "outputs": []
    },
    {
      "cell_type": "code",
      "source": [
        "[lemmatizer.lemmatize(word) for word in words]"
      ],
      "metadata": {
        "id": "qL2Ye87QyGDG",
        "outputId": "e767e68d-50c4-40a3-f33c-63e2b4c61f3b",
        "colab": {
          "base_uri": "https://localhost:8080/"
        }
      },
      "execution_count": 36,
      "outputs": [
        {
          "output_type": "execute_result",
          "data": {
            "text/plain": [
              "['amaze', 'amazed', 'amazing']"
            ]
          },
          "metadata": {},
          "execution_count": 36
        }
      ]
    },
    {
      "cell_type": "code",
      "source": [
        "[lemmatizer.lemmatize(word, wordnet.VERB) for word in words]"
      ],
      "metadata": {
        "id": "Tdn8EeY7xUtW",
        "outputId": "d3e6598a-451d-4c94-f53a-ca04607c39ad",
        "colab": {
          "base_uri": "https://localhost:8080/"
        }
      },
      "execution_count": 35,
      "outputs": [
        {
          "output_type": "execute_result",
          "data": {
            "text/plain": [
              "['amaze', 'amaze', 'amaze']"
            ]
          },
          "metadata": {},
          "execution_count": 35
        }
      ]
    },
    {
      "cell_type": "code",
      "source": [
        "from nltk.corpus import wordnet"
      ],
      "metadata": {
        "id": "tn8eHRoyxutx"
      },
      "execution_count": 34,
      "outputs": []
    },
    {
      "cell_type": "code",
      "source": [
        "import unicodedata\n"
      ],
      "metadata": {
        "id": "KLpd2sRq3-Px"
      },
      "execution_count": 37,
      "outputs": []
    },
    {
      "cell_type": "code",
      "source": [
        "c_with_cedilla = \"\\u00C7\"\n",
        "c_with_cedilla"
      ],
      "metadata": {
        "id": "I8DtyVU24D_U",
        "outputId": "c926a7b5-67be-4edf-db90-ffb331d5fc2e",
        "colab": {
          "base_uri": "https://localhost:8080/",
          "height": 35
        }
      },
      "execution_count": 38,
      "outputs": [
        {
          "output_type": "execute_result",
          "data": {
            "text/plain": [
              "'Ç'"
            ],
            "application/vnd.google.colaboratory.intrinsic+json": {
              "type": "string"
            }
          },
          "metadata": {},
          "execution_count": 38
        }
      ]
    },
    {
      "cell_type": "code",
      "source": [
        "c_plus_cedilla = \"\\u0043\\u0327\"\n",
        "c_plus_cedilla"
      ],
      "metadata": {
        "id": "EOsE8tJ54TL6",
        "outputId": "671819dd-374e-46f3-8ba0-86cd6a4a9c24",
        "colab": {
          "base_uri": "https://localhost:8080/",
          "height": 35
        }
      },
      "execution_count": 40,
      "outputs": [
        {
          "output_type": "execute_result",
          "data": {
            "text/plain": [
              "'Ç'"
            ],
            "application/vnd.google.colaboratory.intrinsic+json": {
              "type": "string"
            }
          },
          "metadata": {},
          "execution_count": 40
        }
      ]
    },
    {
      "cell_type": "code",
      "source": [
        "c_with_cedilla == c_plus_cedilla"
      ],
      "metadata": {
        "id": "d1tXHvwy4fxk",
        "outputId": "2d1a5000-f0ce-49f3-df6c-0d891b82fdf6",
        "colab": {
          "base_uri": "https://localhost:8080/"
        }
      },
      "execution_count": 41,
      "outputs": [
        {
          "output_type": "execute_result",
          "data": {
            "text/plain": [
              "False"
            ]
          },
          "metadata": {},
          "execution_count": 41
        }
      ]
    },
    {
      "cell_type": "code",
      "source": [
        "unicodedata.normalize('NFD',c_with_cedilla) == c_plus_cedilla"
      ],
      "metadata": {
        "id": "5dJ1HRBL4x1s",
        "outputId": "08d6c22c-9edf-420d-8bc5-2cff9895d757",
        "colab": {
          "base_uri": "https://localhost:8080/"
        }
      },
      "execution_count": 42,
      "outputs": [
        {
          "output_type": "execute_result",
          "data": {
            "text/plain": [
              "True"
            ]
          },
          "metadata": {},
          "execution_count": 42
        }
      ]
    },
    {
      "cell_type": "markdown",
      "source": [
        "we have a decompose version of c_with_cedilla"
      ],
      "metadata": {
        "id": "AwworWv149x3"
      }
    },
    {
      "cell_type": "code",
      "source": [
        "c_with_cedilla == unicodedata.normalize('NFC', c_plus_cedilla)"
      ],
      "metadata": {
        "id": "EYE1BjaK5K4t",
        "outputId": "b5f4c42a-1b6d-4960-c603-9b1af2ed4221",
        "colab": {
          "base_uri": "https://localhost:8080/"
        }
      },
      "execution_count": 43,
      "outputs": [
        {
          "output_type": "execute_result",
          "data": {
            "text/plain": [
              "True"
            ]
          },
          "metadata": {},
          "execution_count": 43
        }
      ]
    },
    {
      "cell_type": "code",
      "source": [
        "hello = [0.71, 0.14, 0.51]\n",
        "hi = [0.69, 0.15, 0.48]\n",
        "tomato = [0.16, 0.59, 0.49]"
      ],
      "metadata": {
        "id": "--Rvo7ZpY4pG"
      },
      "execution_count": 1,
      "outputs": []
    },
    {
      "cell_type": "code",
      "source": [
        "import matplotlib.pyplot as plt\n",
        "\n",
        "fig = plt.figure()\n",
        "ax = fig.add_subplot(projection='3d')\n",
        "\n",
        "xs = [hello[0], hi[0], tomato[0]]\n",
        "ys = [hello[1], hi[1], tomato[1]]\n",
        "zs = [hello[2], hi[2], tomato[2]]\n",
        "\n",
        "ax.scatter(xs,ys,zs, s=100)\n",
        "ax.set_xlim((0,1))\n",
        "ax.set_ylim((0,1))\n",
        "ax.set_zlim((0,1))"
      ],
      "metadata": {
        "id": "QAFIVLB3ZLEF",
        "outputId": "c9fb21b5-c7f2-4472-d3b0-436214db7b74",
        "colab": {
          "base_uri": "https://localhost:8080/",
          "height": 265
        }
      },
      "execution_count": 6,
      "outputs": [
        {
          "output_type": "execute_result",
          "data": {
            "text/plain": [
              "(0.0, 1.0)"
            ]
          },
          "metadata": {},
          "execution_count": 6
        },
        {
          "output_type": "display_data",
          "data": {
            "text/plain": [
              "<Figure size 432x288 with 1 Axes>"
            ],
            "image/png": "[encoded data removed]"
          },
          "metadata": {
            "needs_background": "light"
          }
        }
      ]
    },
    {
      "cell_type": "code",
      "source": [
        "import numpy as np"
      ],
      "metadata": {
        "id": "cD66SOoHbBqr"
      },
      "execution_count": 7,
      "outputs": []
    },
    {
      "cell_type": "code",
      "source": [
        "a = np.array(hello)\n",
        "b = np.array(hi)\n",
        "c = np.array(tomato)"
      ],
      "metadata": {
        "id": "U2OvTuB2cKL7"
      },
      "execution_count": 8,
      "outputs": []
    },
    {
      "cell_type": "code",
      "source": [
        "np.matmul(a, b.T)"
      ],
      "metadata": {
        "id": "edLGfJfXdbM4",
        "outputId": "d9f1d554-646d-4559-bbc9-b1117579e9e8",
        "colab": {
          "base_uri": "https://localhost:8080/"
        }
      },
      "execution_count": 9,
      "outputs": [
        {
          "output_type": "execute_result",
          "data": {
            "text/plain": [
              "0.7556999999999999"
            ]
          },
          "metadata": {},
          "execution_count": 9
        }
      ]
    },
    {
      "cell_type": "code",
      "source": [
        "np.dot(a,b)"
      ],
      "metadata": {
        "id": "XqcPjMTRdkqH",
        "outputId": "f187790c-d37b-41a6-88b4-eae682dcbe7d",
        "colab": {
          "base_uri": "https://localhost:8080/"
        }
      },
      "execution_count": 10,
      "outputs": [
        {
          "output_type": "execute_result",
          "data": {
            "text/plain": [
              "0.7556999999999999"
            ]
          },
          "metadata": {},
          "execution_count": 10
        }
      ]
    },
    {
      "cell_type": "code",
      "source": [
        "np.dot(a,c)"
      ],
      "metadata": {
        "id": "w0WUgVFfdqwX",
        "outputId": "b285f11b-69fb-41bc-f371-f21e7c6c5d75",
        "colab": {
          "base_uri": "https://localhost:8080/"
        }
      },
      "execution_count": 12,
      "outputs": [
        {
          "output_type": "execute_result",
          "data": {
            "text/plain": [
              "0.4461"
            ]
          },
          "metadata": {},
          "execution_count": 12
        }
      ]
    },
    {
      "cell_type": "markdown",
      "source": [
        "perfect alignment will be a value of 1"
      ],
      "metadata": {
        "id": "zVGK_JmKdwEW"
      }
    },
    {
      "cell_type": "code",
      "source": [
        "np.matmul(b,c.T)"
      ],
      "metadata": {
        "id": "gX2nKHGDd0ym",
        "outputId": "8a0a2c93-841b-42fe-d17c-9a468ee0a88f",
        "colab": {
          "base_uri": "https://localhost:8080/"
        }
      },
      "execution_count": 13,
      "outputs": [
        {
          "output_type": "execute_result",
          "data": {
            "text/plain": [
              "0.4341"
            ]
          },
          "metadata": {},
          "execution_count": 13
        }
      ]
    },
    {
      "cell_type": "markdown",
      "source": [
        "we are expecting a value of 1, but we are not getting 1."
      ],
      "metadata": {
        "id": "K9Xufa9yd8Dg"
      }
    },
    {
      "cell_type": "code",
      "source": [
        "np.matmul(a, a.T)"
      ],
      "metadata": {
        "id": "pceIniTed_DS",
        "outputId": "bce3857c-36f8-4b6a-aa1f-1df4c7ec88f7",
        "colab": {
          "base_uri": "https://localhost:8080/"
        }
      },
      "execution_count": 14,
      "outputs": [
        {
          "output_type": "execute_result",
          "data": {
            "text/plain": [
              "0.7837999999999999"
            ]
          },
          "metadata": {},
          "execution_count": 14
        }
      ]
    }
  ]
}